{
 "cells": [
  {
   "cell_type": "markdown",
   "id": "ded0c113",
   "metadata": {},
   "source": [
    "# ASSIGNMENT 3-APPLIED DATA SCIENCE\n",
    "\n",
    "### SUBMITTED BY MANASA LAHARI MUVVALA\n",
    "### REGISTRATION NO. 20BCD7191"
   ]
  },
  {
   "cell_type": "markdown",
   "id": "c5bf81c5",
   "metadata": {},
   "source": [
    "### 1.Import necessary libraries"
   ]
  },
  {
   "cell_type": "code",
   "execution_count": 29,
   "id": "51b08bbd",
   "metadata": {},
   "outputs": [],
   "source": [
    "import seaborn as sns\n",
    "import matplotlib.pyplot as plt\n",
    "import numpy as np\n",
    "import pandas as pd"
   ]
  },
  {
   "cell_type": "markdown",
   "id": "a1e6091f",
   "metadata": {},
   "source": [
    "### 2.Load the dataset into the tool."
   ]
  },
  {
   "cell_type": "code",
   "execution_count": 30,
   "id": "eccd04f3",
   "metadata": {},
   "outputs": [],
   "source": [
    "df=pd.read_csv('Housing.csv')"
   ]
  },
  {
   "cell_type": "code",
   "execution_count": 31,
   "id": "95a9a5b7",
   "metadata": {},
   "outputs": [
    {
     "name": "stdout",
     "output_type": "stream",
     "text": [
      "<class 'pandas.core.frame.DataFrame'>\n",
      "RangeIndex: 545 entries, 0 to 544\n",
      "Data columns (total 12 columns):\n",
      " #   Column            Non-Null Count  Dtype \n",
      "---  ------            --------------  ----- \n",
      " 0   price             545 non-null    int64 \n",
      " 1   area              545 non-null    int64 \n",
      " 2   bedrooms          545 non-null    int64 \n",
      " 3   bathrooms         545 non-null    int64 \n",
      " 4   stories           545 non-null    int64 \n",
      " 5   mainroad          545 non-null    object\n",
      " 6   guestroom         545 non-null    object\n",
      " 7   basement          545 non-null    object\n",
      " 8   hotwaterheating   545 non-null    object\n",
      " 9   airconditioning   545 non-null    object\n",
      " 10  parking           545 non-null    int64 \n",
      " 11  furnishingstatus  545 non-null    object\n",
      "dtypes: int64(6), object(6)\n",
      "memory usage: 51.2+ KB\n"
     ]
    }
   ],
   "source": [
    "df.info()"
   ]
  },
  {
   "cell_type": "code",
   "execution_count": 32,
   "id": "62beee9a",
   "metadata": {},
   "outputs": [
    {
     "data": {
      "text/html": [
       "<div>\n",
       "<style scoped>\n",
       "    .dataframe tbody tr th:only-of-type {\n",
       "        vertical-align: middle;\n",
       "    }\n",
       "\n",
       "    .dataframe tbody tr th {\n",
       "        vertical-align: top;\n",
       "    }\n",
       "\n",
       "    .dataframe thead th {\n",
       "        text-align: right;\n",
       "    }\n",
       "</style>\n",
       "<table border=\"1\" class=\"dataframe\">\n",
       "  <thead>\n",
       "    <tr style=\"text-align: right;\">\n",
       "      <th></th>\n",
       "      <th>price</th>\n",
       "      <th>area</th>\n",
       "      <th>bedrooms</th>\n",
       "      <th>bathrooms</th>\n",
       "      <th>stories</th>\n",
       "      <th>mainroad</th>\n",
       "      <th>guestroom</th>\n",
       "      <th>basement</th>\n",
       "      <th>hotwaterheating</th>\n",
       "      <th>airconditioning</th>\n",
       "      <th>parking</th>\n",
       "      <th>furnishingstatus</th>\n",
       "    </tr>\n",
       "  </thead>\n",
       "  <tbody>\n",
       "    <tr>\n",
       "      <th>0</th>\n",
       "      <td>13300000</td>\n",
       "      <td>7420</td>\n",
       "      <td>4</td>\n",
       "      <td>2</td>\n",
       "      <td>3</td>\n",
       "      <td>yes</td>\n",
       "      <td>no</td>\n",
       "      <td>no</td>\n",
       "      <td>no</td>\n",
       "      <td>yes</td>\n",
       "      <td>2</td>\n",
       "      <td>furnished</td>\n",
       "    </tr>\n",
       "    <tr>\n",
       "      <th>1</th>\n",
       "      <td>12250000</td>\n",
       "      <td>8960</td>\n",
       "      <td>4</td>\n",
       "      <td>4</td>\n",
       "      <td>4</td>\n",
       "      <td>yes</td>\n",
       "      <td>no</td>\n",
       "      <td>no</td>\n",
       "      <td>no</td>\n",
       "      <td>yes</td>\n",
       "      <td>3</td>\n",
       "      <td>furnished</td>\n",
       "    </tr>\n",
       "    <tr>\n",
       "      <th>2</th>\n",
       "      <td>12250000</td>\n",
       "      <td>9960</td>\n",
       "      <td>3</td>\n",
       "      <td>2</td>\n",
       "      <td>2</td>\n",
       "      <td>yes</td>\n",
       "      <td>no</td>\n",
       "      <td>yes</td>\n",
       "      <td>no</td>\n",
       "      <td>no</td>\n",
       "      <td>2</td>\n",
       "      <td>semi-furnished</td>\n",
       "    </tr>\n",
       "    <tr>\n",
       "      <th>3</th>\n",
       "      <td>12215000</td>\n",
       "      <td>7500</td>\n",
       "      <td>4</td>\n",
       "      <td>2</td>\n",
       "      <td>2</td>\n",
       "      <td>yes</td>\n",
       "      <td>no</td>\n",
       "      <td>yes</td>\n",
       "      <td>no</td>\n",
       "      <td>yes</td>\n",
       "      <td>3</td>\n",
       "      <td>furnished</td>\n",
       "    </tr>\n",
       "    <tr>\n",
       "      <th>4</th>\n",
       "      <td>11410000</td>\n",
       "      <td>7420</td>\n",
       "      <td>4</td>\n",
       "      <td>1</td>\n",
       "      <td>2</td>\n",
       "      <td>yes</td>\n",
       "      <td>yes</td>\n",
       "      <td>yes</td>\n",
       "      <td>no</td>\n",
       "      <td>yes</td>\n",
       "      <td>2</td>\n",
       "      <td>furnished</td>\n",
       "    </tr>\n",
       "  </tbody>\n",
       "</table>\n",
       "</div>"
      ],
      "text/plain": [
       "      price  area  bedrooms  bathrooms  stories mainroad guestroom basement  \\\n",
       "0  13300000  7420         4          2        3      yes        no       no   \n",
       "1  12250000  8960         4          4        4      yes        no       no   \n",
       "2  12250000  9960         3          2        2      yes        no      yes   \n",
       "3  12215000  7500         4          2        2      yes        no      yes   \n",
       "4  11410000  7420         4          1        2      yes       yes      yes   \n",
       "\n",
       "  hotwaterheating airconditioning  parking furnishingstatus  \n",
       "0              no             yes        2        furnished  \n",
       "1              no             yes        3        furnished  \n",
       "2              no              no        2   semi-furnished  \n",
       "3              no             yes        3        furnished  \n",
       "4              no             yes        2        furnished  "
      ]
     },
     "execution_count": 32,
     "metadata": {},
     "output_type": "execute_result"
    }
   ],
   "source": [
    "df.head()"
   ]
  },
  {
   "cell_type": "markdown",
   "id": "7e2808a6",
   "metadata": {},
   "source": [
    "## 3. Perform Below Visualizations.\n",
    "\n",
    "### 1. Univariate Analysis\n"
   ]
  },
  {
   "cell_type": "code",
   "execution_count": 33,
   "id": "d451d0d8",
   "metadata": {},
   "outputs": [
    {
     "data": {
      "image/png": "[encoded data removed]",
      "text/plain": [
       "<Figure size 432x288 with 1 Axes>"
      ]
     },
     "metadata": {
      "needs_background": "light"
     },
     "output_type": "display_data"
    }
   ],
   "source": [
    "#3. Perform Below Visualizations.\n",
    "#1. Univariate Analysis\n",
    "# Histogram\n",
    "plt.hist(df['price'], bins=10)\n",
    "plt.title('Histogram of price')\n",
    "plt.xlabel('price')\n",
    "plt.ylabel('Frequency')\n",
    "plt.show()"
   ]
  },
  {
   "cell_type": "code",
   "execution_count": 34,
   "id": "154d646b",
   "metadata": {},
   "outputs": [
    {
     "data": {
      "image/png": "[encoded data removed]",
      "text/plain": [
       "<Figure size 432x288 with 1 Axes>"
      ]
     },
     "metadata": {
      "needs_background": "light"
     },
     "output_type": "display_data"
    }
   ],
   "source": [
    "# Boxplot\n",
    "plt.boxplot(df['price'])\n",
    "plt.title('Boxplot of price')\n",
    "plt.xlabel('price')\n",
    "plt.ylabel('Value')\n",
    "plt.show()"
   ]
  },
  {
   "cell_type": "code",
   "execution_count": 35,
   "id": "ad993d63",
   "metadata": {},
   "outputs": [
    {
     "data": {
      "image/png": "[encoded data removed]",
      "text/plain": [
       "<Figure size 432x288 with 1 Axes>"
      ]
     },
     "metadata": {},
     "output_type": "display_data"
    }
   ],
   "source": [
    "#Pie Chart\n",
    "plt.pie(df['price'].value_counts(), labels=df['price'].unique())\n",
    "plt.title('Pie Chart of price')\n",
    "plt.show()"
   ]
  },
  {
   "cell_type": "markdown",
   "id": "d970dd8f",
   "metadata": {},
   "source": [
    "### Bivariate analysis"
   ]
  },
  {
   "cell_type": "code",
   "execution_count": 36,
   "id": "783c94d0",
   "metadata": {},
   "outputs": [
    {
     "data": {
      "image/png": "[encoded data removed]",
      "text/plain": [
       "<Figure size 432x288 with 1 Axes>"
      ]
     },
     "metadata": {
      "needs_background": "light"
     },
     "output_type": "display_data"
    }
   ],
   "source": [
    "# Bivariate analysis\n",
    "# Scatterplot\n",
    "plt.scatter(df['price'], df['area'])\n",
    "plt.title('Scatterplot of price and area')\n",
    "plt.xlabel('price')\n",
    "plt.ylabel('area')\n",
    "plt.show()"
   ]
  },
  {
   "cell_type": "code",
   "execution_count": 37,
   "id": "e11ddd00",
   "metadata": {},
   "outputs": [
    {
     "data": {
      "image/png": "[encoded data removed]",
      "text/plain": [
       "<Figure size 432x288 with 1 Axes>"
      ]
     },
     "metadata": {
      "needs_background": "light"
     },
     "output_type": "display_data"
    }
   ],
   "source": [
    "# Line chart\n",
    "plt.plot(df['price'], df['area'], 'o-')\n",
    "plt.title('Line Chart of price and area')\n",
    "plt.xlabel('price')\n",
    "plt.ylabel('area')\n",
    "plt.show()"
   ]
  },
  {
   "cell_type": "code",
   "execution_count": 38,
   "id": "5b2282b1",
   "metadata": {
    "scrolled": true
   },
   "outputs": [
    {
     "data": {
      "image/png": "[encoded data removed]",
      "text/plain": [
       "<Figure size 432x288 with 1 Axes>"
      ]
     },
     "metadata": {
      "needs_background": "light"
     },
     "output_type": "display_data"
    }
   ],
   "source": [
    "# Bar chart\n",
    "plt.bar(df['price'].unique(), df['area'].mean(), align='center')\n",
    "plt.title('Bar Chart Mean area by price')\n",
    "plt.xlabel('price')\n",
    "plt.ylabel('Mean area')\n",
    "plt.show()"
   ]
  },
  {
   "cell_type": "markdown",
   "id": "8fdec26c",
   "metadata": {},
   "source": [
    "###  Multivariate analysis"
   ]
  },
  {
   "cell_type": "code",
   "execution_count": 39,
   "id": "6eba749c",
   "metadata": {},
   "outputs": [
    {
     "data": {
      "image/png": "[encoded data removed]",
      "text/plain": [
       "<Figure size 432x288 with 2 Axes>"
      ]
     },
     "metadata": {
      "needs_background": "light"
     },
     "output_type": "display_data"
    }
   ],
   "source": [
    "# Multivariate analysis\n",
    "# Heatmap\n",
    "df['price'] = df['price'].astype('category').cat.codes\n",
    "sns.heatmap(df.corr(), annot=True)\n",
    "plt.show()"
   ]
  },
  {
   "cell_type": "code",
   "execution_count": 40,
   "id": "89e42e92",
   "metadata": {},
   "outputs": [
    {
     "data": {
      "image/png": "[encoded data removed]",
      "text/plain": [
       "<Figure size 432x288 with 1 Axes>"
      ]
     },
     "metadata": {
      "needs_background": "light"
     },
     "output_type": "display_data"
    }
   ],
   "source": [
    "# Multivariate analysis\n",
    "# 3D scatterplot\n",
    "from mpl_toolkits.mplot3d import Axes3D\n",
    "x = df['price']\n",
    "y = df['bedrooms']\n",
    "z = df['bathrooms']\n",
    "fig = plt.figure()\n",
    "ax = fig.add_subplot(111, projection='3d')\n",
    "ax.scatter(x, y, z)\n",
    "ax.set_xlabel('X')\n",
    "ax.set_ylabel('Y')\n",
    "ax.set_zlabel('Z')\n",
    "plt.show()\n"
   ]
  },
  {
   "cell_type": "code",
   "execution_count": 100,
   "id": "fbf5ff16",
   "metadata": {},
   "outputs": [
    {
     "ename": "SyntaxError",
     "evalue": "invalid syntax (Temp/ipykernel_9344/1382689427.py, line 2)",
     "output_type": "error",
     "traceback": [
      "\u001b[1;36m  File \u001b[1;32m\"C:\\Users\\91798\\AppData\\Local\\Temp/ipykernel_9344/1382689427.py\"\u001b[1;36m, line \u001b[1;32m2\u001b[0m\n\u001b[1;33m    - pip install squarify\u001b[0m\n\u001b[1;37m          ^\u001b[0m\n\u001b[1;31mSyntaxError\u001b[0m\u001b[1;31m:\u001b[0m invalid syntax\n"
     ]
    }
   ],
   "source": [
    "# Treemap\n",
    "import squarify\n",
    "plt.figure()\n",
    "squarify.plot(df['price'].value_counts(), label=df['price'].unique())\n",
    "plt.title('Treemap of price')\n",
    "plt.show()"
   ]
  },
  {
   "cell_type": "markdown",
   "id": "026ef017",
   "metadata": {},
   "source": [
    "## 4. Perform descriptive statistics on the dataset."
   ]
  },
  {
   "cell_type": "code",
   "execution_count": 42,
   "id": "680c27e5",
   "metadata": {},
   "outputs": [
    {
     "data": {
      "text/html": [
       "<div>\n",
       "<style scoped>\n",
       "    .dataframe tbody tr th:only-of-type {\n",
       "        vertical-align: middle;\n",
       "    }\n",
       "\n",
       "    .dataframe tbody tr th {\n",
       "        vertical-align: top;\n",
       "    }\n",
       "\n",
       "    .dataframe thead th {\n",
       "        text-align: right;\n",
       "    }\n",
       "</style>\n",
       "<table border=\"1\" class=\"dataframe\">\n",
       "  <thead>\n",
       "    <tr style=\"text-align: right;\">\n",
       "      <th></th>\n",
       "      <th>price</th>\n",
       "      <th>area</th>\n",
       "      <th>bedrooms</th>\n",
       "      <th>bathrooms</th>\n",
       "      <th>stories</th>\n",
       "      <th>parking</th>\n",
       "    </tr>\n",
       "  </thead>\n",
       "  <tbody>\n",
       "    <tr>\n",
       "      <th>count</th>\n",
       "      <td>545.000000</td>\n",
       "      <td>545.000000</td>\n",
       "      <td>545.000000</td>\n",
       "      <td>545.000000</td>\n",
       "      <td>545.000000</td>\n",
       "      <td>545.000000</td>\n",
       "    </tr>\n",
       "    <tr>\n",
       "      <th>mean</th>\n",
       "      <td>95.728440</td>\n",
       "      <td>5150.541284</td>\n",
       "      <td>2.965138</td>\n",
       "      <td>1.286239</td>\n",
       "      <td>1.805505</td>\n",
       "      <td>0.693578</td>\n",
       "    </tr>\n",
       "    <tr>\n",
       "      <th>std</th>\n",
       "      <td>56.256108</td>\n",
       "      <td>2170.141023</td>\n",
       "      <td>0.738064</td>\n",
       "      <td>0.502470</td>\n",
       "      <td>0.867492</td>\n",
       "      <td>0.861586</td>\n",
       "    </tr>\n",
       "    <tr>\n",
       "      <th>min</th>\n",
       "      <td>0.000000</td>\n",
       "      <td>1650.000000</td>\n",
       "      <td>1.000000</td>\n",
       "      <td>1.000000</td>\n",
       "      <td>1.000000</td>\n",
       "      <td>0.000000</td>\n",
       "    </tr>\n",
       "    <tr>\n",
       "      <th>25%</th>\n",
       "      <td>51.000000</td>\n",
       "      <td>3600.000000</td>\n",
       "      <td>2.000000</td>\n",
       "      <td>1.000000</td>\n",
       "      <td>1.000000</td>\n",
       "      <td>0.000000</td>\n",
       "    </tr>\n",
       "    <tr>\n",
       "      <th>50%</th>\n",
       "      <td>87.000000</td>\n",
       "      <td>4600.000000</td>\n",
       "      <td>3.000000</td>\n",
       "      <td>1.000000</td>\n",
       "      <td>2.000000</td>\n",
       "      <td>0.000000</td>\n",
       "    </tr>\n",
       "    <tr>\n",
       "      <th>75%</th>\n",
       "      <td>137.000000</td>\n",
       "      <td>6360.000000</td>\n",
       "      <td>3.000000</td>\n",
       "      <td>2.000000</td>\n",
       "      <td>2.000000</td>\n",
       "      <td>1.000000</td>\n",
       "    </tr>\n",
       "    <tr>\n",
       "      <th>max</th>\n",
       "      <td>218.000000</td>\n",
       "      <td>16200.000000</td>\n",
       "      <td>6.000000</td>\n",
       "      <td>4.000000</td>\n",
       "      <td>4.000000</td>\n",
       "      <td>3.000000</td>\n",
       "    </tr>\n",
       "  </tbody>\n",
       "</table>\n",
       "</div>"
      ],
      "text/plain": [
       "            price          area    bedrooms   bathrooms     stories  \\\n",
       "count  545.000000    545.000000  545.000000  545.000000  545.000000   \n",
       "mean    95.728440   5150.541284    2.965138    1.286239    1.805505   \n",
       "std     56.256108   2170.141023    0.738064    0.502470    0.867492   \n",
       "min      0.000000   1650.000000    1.000000    1.000000    1.000000   \n",
       "25%     51.000000   3600.000000    2.000000    1.000000    1.000000   \n",
       "50%     87.000000   4600.000000    3.000000    1.000000    2.000000   \n",
       "75%    137.000000   6360.000000    3.000000    2.000000    2.000000   \n",
       "max    218.000000  16200.000000    6.000000    4.000000    4.000000   \n",
       "\n",
       "          parking  \n",
       "count  545.000000  \n",
       "mean     0.693578  \n",
       "std      0.861586  \n",
       "min      0.000000  \n",
       "25%      0.000000  \n",
       "50%      0.000000  \n",
       "75%      1.000000  \n",
       "max      3.000000  "
      ]
     },
     "execution_count": 42,
     "metadata": {},
     "output_type": "execute_result"
    }
   ],
   "source": [
    "#4. Perform descriptive statistics on the dataset.\n",
    "df.describe()\n"
   ]
  },
  {
   "cell_type": "code",
   "execution_count": 43,
   "id": "5abee2fa",
   "metadata": {
    "scrolled": true
   },
   "outputs": [
    {
     "name": "stdout",
     "output_type": "stream",
     "text": [
      "<class 'pandas.core.frame.DataFrame'>\n",
      "RangeIndex: 545 entries, 0 to 544\n",
      "Data columns (total 12 columns):\n",
      " #   Column            Non-Null Count  Dtype \n",
      "---  ------            --------------  ----- \n",
      " 0   price             545 non-null    int16 \n",
      " 1   area              545 non-null    int64 \n",
      " 2   bedrooms          545 non-null    int64 \n",
      " 3   bathrooms         545 non-null    int64 \n",
      " 4   stories           545 non-null    int64 \n",
      " 5   mainroad          545 non-null    object\n",
      " 6   guestroom         545 non-null    object\n",
      " 7   basement          545 non-null    object\n",
      " 8   hotwaterheating   545 non-null    object\n",
      " 9   airconditioning   545 non-null    object\n",
      " 10  parking           545 non-null    int64 \n",
      " 11  furnishingstatus  545 non-null    object\n",
      "dtypes: int16(1), int64(5), object(6)\n",
      "memory usage: 48.0+ KB\n"
     ]
    }
   ],
   "source": [
    "df.info()"
   ]
  },
  {
   "cell_type": "markdown",
   "id": "9159869f",
   "metadata": {},
   "source": [
    "# 5. Check for Missing values and deal with them"
   ]
  },
  {
   "cell_type": "code",
   "execution_count": 44,
   "id": "580a3e85",
   "metadata": {
    "scrolled": true
   },
   "outputs": [
    {
     "data": {
      "text/plain": [
       "price               0\n",
       "area                0\n",
       "bedrooms            0\n",
       "bathrooms           0\n",
       "stories             0\n",
       "mainroad            0\n",
       "guestroom           0\n",
       "basement            0\n",
       "hotwaterheating     0\n",
       "airconditioning     0\n",
       "parking             0\n",
       "furnishingstatus    0\n",
       "dtype: int64"
      ]
     },
     "execution_count": 44,
     "metadata": {},
     "output_type": "execute_result"
    }
   ],
   "source": [
    "#5. Check for Missing values and deal with them\n",
    "df.isnull().sum()"
   ]
  },
  {
   "cell_type": "markdown",
   "id": "784febff",
   "metadata": {},
   "source": [
    "### 6.Find the outliers and replace the outliers"
   ]
  },
  {
   "cell_type": "code",
   "execution_count": 45,
   "id": "019435ac",
   "metadata": {},
   "outputs": [],
   "source": [
    "#6. Find the outliers and replace them outliers\n",
    "target_column = 'price'\n",
    "Q1 = df[target_column].quantile(0.25)\n",
    "Q3 = df[target_column].quantile(0.75)\n",
    "IQR = Q3 - Q1"
   ]
  },
  {
   "cell_type": "code",
   "execution_count": 46,
   "id": "6b2dbd47",
   "metadata": {},
   "outputs": [
    {
     "data": {
      "text/plain": [
       "86.0"
      ]
     },
     "execution_count": 46,
     "metadata": {},
     "output_type": "execute_result"
    }
   ],
   "source": [
    "IQR"
   ]
  },
  {
   "cell_type": "code",
   "execution_count": 47,
   "id": "c9c70c0e",
   "metadata": {},
   "outputs": [],
   "source": [
    "lower_bound = Q1 - 1.5 * IQR\n",
    "upper_bound = Q3 + 1.5 * IQR"
   ]
  },
  {
   "cell_type": "code",
   "execution_count": 48,
   "id": "983aa2e1",
   "metadata": {},
   "outputs": [
    {
     "data": {
      "text/plain": [
       "-78.0"
      ]
     },
     "execution_count": 48,
     "metadata": {},
     "output_type": "execute_result"
    }
   ],
   "source": [
    "lower_bound"
   ]
  },
  {
   "cell_type": "code",
   "execution_count": 49,
   "id": "7b1cf77c",
   "metadata": {},
   "outputs": [
    {
     "data": {
      "text/plain": [
       "266.0"
      ]
     },
     "execution_count": 49,
     "metadata": {},
     "output_type": "execute_result"
    }
   ],
   "source": [
    "upper_bound"
   ]
  },
  {
   "cell_type": "code",
   "execution_count": 50,
   "id": "c1df8eea",
   "metadata": {},
   "outputs": [],
   "source": [
    "outliers = df[(df[target_column] < lower_bound) | (df[target_column] > upper_bound)]"
   ]
  },
  {
   "cell_type": "code",
   "execution_count": 51,
   "id": "d69bd637",
   "metadata": {},
   "outputs": [],
   "source": [
    "median_value = df[target_column].median()\n",
    "df.loc[(df[target_column] < lower_bound) | (df[target_column] > upper_bound), target_column] = median_value"
   ]
  },
  {
   "cell_type": "code",
   "execution_count": 52,
   "id": "0caee2c1",
   "metadata": {},
   "outputs": [
    {
     "data": {
      "text/plain": [
       "87.0"
      ]
     },
     "execution_count": 52,
     "metadata": {},
     "output_type": "execute_result"
    }
   ],
   "source": [
    "median_value"
   ]
  },
  {
   "cell_type": "code",
   "execution_count": 53,
   "id": "84cca2cb",
   "metadata": {},
   "outputs": [
    {
     "data": {
      "text/html": [
       "<div>\n",
       "<style scoped>\n",
       "    .dataframe tbody tr th:only-of-type {\n",
       "        vertical-align: middle;\n",
       "    }\n",
       "\n",
       "    .dataframe tbody tr th {\n",
       "        vertical-align: top;\n",
       "    }\n",
       "\n",
       "    .dataframe thead th {\n",
       "        text-align: right;\n",
       "    }\n",
       "</style>\n",
       "<table border=\"1\" class=\"dataframe\">\n",
       "  <thead>\n",
       "    <tr style=\"text-align: right;\">\n",
       "      <th></th>\n",
       "      <th>price</th>\n",
       "      <th>area</th>\n",
       "      <th>bedrooms</th>\n",
       "      <th>bathrooms</th>\n",
       "      <th>stories</th>\n",
       "      <th>mainroad</th>\n",
       "      <th>guestroom</th>\n",
       "      <th>basement</th>\n",
       "      <th>hotwaterheating</th>\n",
       "      <th>airconditioning</th>\n",
       "      <th>parking</th>\n",
       "      <th>furnishingstatus</th>\n",
       "    </tr>\n",
       "  </thead>\n",
       "  <tbody>\n",
       "    <tr>\n",
       "      <th>0</th>\n",
       "      <td>218</td>\n",
       "      <td>7420</td>\n",
       "      <td>4</td>\n",
       "      <td>2</td>\n",
       "      <td>3</td>\n",
       "      <td>yes</td>\n",
       "      <td>no</td>\n",
       "      <td>no</td>\n",
       "      <td>no</td>\n",
       "      <td>yes</td>\n",
       "      <td>2</td>\n",
       "      <td>furnished</td>\n",
       "    </tr>\n",
       "    <tr>\n",
       "      <th>1</th>\n",
       "      <td>217</td>\n",
       "      <td>8960</td>\n",
       "      <td>4</td>\n",
       "      <td>4</td>\n",
       "      <td>4</td>\n",
       "      <td>yes</td>\n",
       "      <td>no</td>\n",
       "      <td>no</td>\n",
       "      <td>no</td>\n",
       "      <td>yes</td>\n",
       "      <td>3</td>\n",
       "      <td>furnished</td>\n",
       "    </tr>\n",
       "    <tr>\n",
       "      <th>2</th>\n",
       "      <td>217</td>\n",
       "      <td>9960</td>\n",
       "      <td>3</td>\n",
       "      <td>2</td>\n",
       "      <td>2</td>\n",
       "      <td>yes</td>\n",
       "      <td>no</td>\n",
       "      <td>yes</td>\n",
       "      <td>no</td>\n",
       "      <td>no</td>\n",
       "      <td>2</td>\n",
       "      <td>semi-furnished</td>\n",
       "    </tr>\n",
       "    <tr>\n",
       "      <th>3</th>\n",
       "      <td>216</td>\n",
       "      <td>7500</td>\n",
       "      <td>4</td>\n",
       "      <td>2</td>\n",
       "      <td>2</td>\n",
       "      <td>yes</td>\n",
       "      <td>no</td>\n",
       "      <td>yes</td>\n",
       "      <td>no</td>\n",
       "      <td>yes</td>\n",
       "      <td>3</td>\n",
       "      <td>furnished</td>\n",
       "    </tr>\n",
       "    <tr>\n",
       "      <th>4</th>\n",
       "      <td>215</td>\n",
       "      <td>7420</td>\n",
       "      <td>4</td>\n",
       "      <td>1</td>\n",
       "      <td>2</td>\n",
       "      <td>yes</td>\n",
       "      <td>yes</td>\n",
       "      <td>yes</td>\n",
       "      <td>no</td>\n",
       "      <td>yes</td>\n",
       "      <td>2</td>\n",
       "      <td>furnished</td>\n",
       "    </tr>\n",
       "    <tr>\n",
       "      <th>...</th>\n",
       "      <td>...</td>\n",
       "      <td>...</td>\n",
       "      <td>...</td>\n",
       "      <td>...</td>\n",
       "      <td>...</td>\n",
       "      <td>...</td>\n",
       "      <td>...</td>\n",
       "      <td>...</td>\n",
       "      <td>...</td>\n",
       "      <td>...</td>\n",
       "      <td>...</td>\n",
       "      <td>...</td>\n",
       "    </tr>\n",
       "    <tr>\n",
       "      <th>540</th>\n",
       "      <td>2</td>\n",
       "      <td>3000</td>\n",
       "      <td>2</td>\n",
       "      <td>1</td>\n",
       "      <td>1</td>\n",
       "      <td>yes</td>\n",
       "      <td>no</td>\n",
       "      <td>yes</td>\n",
       "      <td>no</td>\n",
       "      <td>no</td>\n",
       "      <td>2</td>\n",
       "      <td>unfurnished</td>\n",
       "    </tr>\n",
       "    <tr>\n",
       "      <th>541</th>\n",
       "      <td>1</td>\n",
       "      <td>2400</td>\n",
       "      <td>3</td>\n",
       "      <td>1</td>\n",
       "      <td>1</td>\n",
       "      <td>no</td>\n",
       "      <td>no</td>\n",
       "      <td>no</td>\n",
       "      <td>no</td>\n",
       "      <td>no</td>\n",
       "      <td>0</td>\n",
       "      <td>semi-furnished</td>\n",
       "    </tr>\n",
       "    <tr>\n",
       "      <th>542</th>\n",
       "      <td>0</td>\n",
       "      <td>3620</td>\n",
       "      <td>2</td>\n",
       "      <td>1</td>\n",
       "      <td>1</td>\n",
       "      <td>yes</td>\n",
       "      <td>no</td>\n",
       "      <td>no</td>\n",
       "      <td>no</td>\n",
       "      <td>no</td>\n",
       "      <td>0</td>\n",
       "      <td>unfurnished</td>\n",
       "    </tr>\n",
       "    <tr>\n",
       "      <th>543</th>\n",
       "      <td>0</td>\n",
       "      <td>2910</td>\n",
       "      <td>3</td>\n",
       "      <td>1</td>\n",
       "      <td>1</td>\n",
       "      <td>no</td>\n",
       "      <td>no</td>\n",
       "      <td>no</td>\n",
       "      <td>no</td>\n",
       "      <td>no</td>\n",
       "      <td>0</td>\n",
       "      <td>furnished</td>\n",
       "    </tr>\n",
       "    <tr>\n",
       "      <th>544</th>\n",
       "      <td>0</td>\n",
       "      <td>3850</td>\n",
       "      <td>3</td>\n",
       "      <td>1</td>\n",
       "      <td>2</td>\n",
       "      <td>yes</td>\n",
       "      <td>no</td>\n",
       "      <td>no</td>\n",
       "      <td>no</td>\n",
       "      <td>no</td>\n",
       "      <td>0</td>\n",
       "      <td>unfurnished</td>\n",
       "    </tr>\n",
       "  </tbody>\n",
       "</table>\n",
       "<p>545 rows × 12 columns</p>\n",
       "</div>"
      ],
      "text/plain": [
       "     price  area  bedrooms  bathrooms  stories mainroad guestroom basement  \\\n",
       "0      218  7420         4          2        3      yes        no       no   \n",
       "1      217  8960         4          4        4      yes        no       no   \n",
       "2      217  9960         3          2        2      yes        no      yes   \n",
       "3      216  7500         4          2        2      yes        no      yes   \n",
       "4      215  7420         4          1        2      yes       yes      yes   \n",
       "..     ...   ...       ...        ...      ...      ...       ...      ...   \n",
       "540      2  3000         2          1        1      yes        no      yes   \n",
       "541      1  2400         3          1        1       no        no       no   \n",
       "542      0  3620         2          1        1      yes        no       no   \n",
       "543      0  2910         3          1        1       no        no       no   \n",
       "544      0  3850         3          1        2      yes        no       no   \n",
       "\n",
       "    hotwaterheating airconditioning  parking furnishingstatus  \n",
       "0                no             yes        2        furnished  \n",
       "1                no             yes        3        furnished  \n",
       "2                no              no        2   semi-furnished  \n",
       "3                no             yes        3        furnished  \n",
       "4                no             yes        2        furnished  \n",
       "..              ...             ...      ...              ...  \n",
       "540              no              no        2      unfurnished  \n",
       "541              no              no        0   semi-furnished  \n",
       "542              no              no        0      unfurnished  \n",
       "543              no              no        0        furnished  \n",
       "544              no              no        0      unfurnished  \n",
       "\n",
       "[545 rows x 12 columns]"
      ]
     },
     "execution_count": 53,
     "metadata": {},
     "output_type": "execute_result"
    }
   ],
   "source": [
    "df"
   ]
  },
  {
   "cell_type": "code",
   "execution_count": 54,
   "id": "70810ff2",
   "metadata": {
    "scrolled": true
   },
   "outputs": [
    {
     "name": "stdout",
     "output_type": "stream",
     "text": [
      "     price  area  bedrooms  bathrooms  stories mainroad guestroom basement  \\\n",
      "0      218  7420         4          2        3      yes        no       no   \n",
      "1      217  8960         4          4        4      yes        no       no   \n",
      "2      217  9960         3          2        2      yes        no      yes   \n",
      "3      216  7500         4          2        2      yes        no      yes   \n",
      "4      215  7420         4          1        2      yes       yes      yes   \n",
      "..     ...   ...       ...        ...      ...      ...       ...      ...   \n",
      "540      2  3000         2          1        1      yes        no      yes   \n",
      "541      1  2400         3          1        1       no        no       no   \n",
      "542      0  3620         2          1        1      yes        no       no   \n",
      "543      0  2910         3          1        1       no        no       no   \n",
      "544      0  3850         3          1        2      yes        no       no   \n",
      "\n",
      "    hotwaterheating airconditioning  parking furnishingstatus  \n",
      "0                no             yes        2        furnished  \n",
      "1                no             yes        3        furnished  \n",
      "2                no              no        2   semi-furnished  \n",
      "3                no             yes        3        furnished  \n",
      "4                no             yes        2        furnished  \n",
      "..              ...             ...      ...              ...  \n",
      "540              no              no        2      unfurnished  \n",
      "541              no              no        0   semi-furnished  \n",
      "542              no              no        0      unfurnished  \n",
      "543              no              no        0        furnished  \n",
      "544              no              no        0      unfurnished  \n",
      "\n",
      "[545 rows x 12 columns]\n"
     ]
    }
   ],
   "source": [
    "print(df)"
   ]
  },
  {
   "cell_type": "markdown",
   "id": "98894017",
   "metadata": {},
   "source": [
    "# 7. Check for Categorical columns and perform encoding."
   ]
  },
  {
   "cell_type": "code",
   "execution_count": 55,
   "id": "cbc22812",
   "metadata": {},
   "outputs": [
    {
     "data": {
      "text/plain": [
       "price                int16\n",
       "area                 int64\n",
       "bedrooms             int64\n",
       "bathrooms            int64\n",
       "stories              int64\n",
       "mainroad            object\n",
       "guestroom           object\n",
       "basement            object\n",
       "hotwaterheating     object\n",
       "airconditioning     object\n",
       "parking              int64\n",
       "furnishingstatus    object\n",
       "dtype: object"
      ]
     },
     "execution_count": 55,
     "metadata": {},
     "output_type": "execute_result"
    }
   ],
   "source": [
    "#7. Check for Categorical columns and perform encoding.\n",
    "from sklearn.preprocessing import LabelEncoder\n",
    "df.dtypes"
   ]
  },
  {
   "cell_type": "code",
   "execution_count": 56,
   "id": "22ced1fe",
   "metadata": {},
   "outputs": [],
   "source": [
    "categorical_columns = df.select_dtypes(include=['object']).columns\n",
    "df_encoded = pd.get_dummies(df, columns=categorical_columns)"
   ]
  },
  {
   "cell_type": "code",
   "execution_count": 57,
   "id": "8622415c",
   "metadata": {},
   "outputs": [
    {
     "data": {
      "text/plain": [
       "Index(['mainroad', 'guestroom', 'basement', 'hotwaterheating',\n",
       "       'airconditioning', 'furnishingstatus'],\n",
       "      dtype='object')"
      ]
     },
     "execution_count": 57,
     "metadata": {},
     "output_type": "execute_result"
    }
   ],
   "source": [
    "categorical_columns"
   ]
  },
  {
   "cell_type": "code",
   "execution_count": 58,
   "id": "2581bf65",
   "metadata": {
    "scrolled": true
   },
   "outputs": [
    {
     "name": "stdout",
     "output_type": "stream",
     "text": [
      "     price  area  bedrooms  bathrooms  stories  parking  mainroad_no  \\\n",
      "0      218  7420         4          2        3        2            0   \n",
      "1      217  8960         4          4        4        3            0   \n",
      "2      217  9960         3          2        2        2            0   \n",
      "3      216  7500         4          2        2        3            0   \n",
      "4      215  7420         4          1        2        2            0   \n",
      "..     ...   ...       ...        ...      ...      ...          ...   \n",
      "540      2  3000         2          1        1        2            0   \n",
      "541      1  2400         3          1        1        0            1   \n",
      "542      0  3620         2          1        1        0            0   \n",
      "543      0  2910         3          1        1        0            1   \n",
      "544      0  3850         3          1        2        0            0   \n",
      "\n",
      "     mainroad_yes  guestroom_no  guestroom_yes  basement_no  basement_yes  \\\n",
      "0               1             1              0            1             0   \n",
      "1               1             1              0            1             0   \n",
      "2               1             1              0            0             1   \n",
      "3               1             1              0            0             1   \n",
      "4               1             0              1            0             1   \n",
      "..            ...           ...            ...          ...           ...   \n",
      "540             1             1              0            0             1   \n",
      "541             0             1              0            1             0   \n",
      "542             1             1              0            1             0   \n",
      "543             0             1              0            1             0   \n",
      "544             1             1              0            1             0   \n",
      "\n",
      "     hotwaterheating_no  hotwaterheating_yes  airconditioning_no  \\\n",
      "0                     1                    0                   0   \n",
      "1                     1                    0                   0   \n",
      "2                     1                    0                   1   \n",
      "3                     1                    0                   0   \n",
      "4                     1                    0                   0   \n",
      "..                  ...                  ...                 ...   \n",
      "540                   1                    0                   1   \n",
      "541                   1                    0                   1   \n",
      "542                   1                    0                   1   \n",
      "543                   1                    0                   1   \n",
      "544                   1                    0                   1   \n",
      "\n",
      "     airconditioning_yes  furnishingstatus_furnished  \\\n",
      "0                      1                           1   \n",
      "1                      1                           1   \n",
      "2                      0                           0   \n",
      "3                      1                           1   \n",
      "4                      1                           1   \n",
      "..                   ...                         ...   \n",
      "540                    0                           0   \n",
      "541                    0                           0   \n",
      "542                    0                           0   \n",
      "543                    0                           1   \n",
      "544                    0                           0   \n",
      "\n",
      "     furnishingstatus_semi-furnished  furnishingstatus_unfurnished  \n",
      "0                                  0                             0  \n",
      "1                                  0                             0  \n",
      "2                                  1                             0  \n",
      "3                                  0                             0  \n",
      "4                                  0                             0  \n",
      "..                               ...                           ...  \n",
      "540                                0                             1  \n",
      "541                                1                             0  \n",
      "542                                0                             1  \n",
      "543                                0                             0  \n",
      "544                                0                             1  \n",
      "\n",
      "[545 rows x 19 columns]\n"
     ]
    }
   ],
   "source": [
    "print(df_encoded)"
   ]
  },
  {
   "cell_type": "markdown",
   "id": "a1b1aafe",
   "metadata": {},
   "source": [
    "## 8. Split the data into dependent and independent variables."
   ]
  },
  {
   "cell_type": "code",
   "execution_count": 59,
   "id": "1a03a000",
   "metadata": {},
   "outputs": [],
   "source": [
    "#8. Split the data into dependent and independent variables. \n",
    "dependent_variable = 'price'\n",
    "independent_variables = df.drop(dependent_variable, axis=1)\n",
    "dependent_variable = df[dependent_variable]"
   ]
  },
  {
   "cell_type": "code",
   "execution_count": 60,
   "id": "338b7b65",
   "metadata": {},
   "outputs": [
    {
     "name": "stdout",
     "output_type": "stream",
     "text": [
      "0      218\n",
      "1      217\n",
      "2      217\n",
      "3      216\n",
      "4      215\n",
      "      ... \n",
      "540      2\n",
      "541      1\n",
      "542      0\n",
      "543      0\n",
      "544      0\n",
      "Name: price, Length: 545, dtype: int16\n"
     ]
    }
   ],
   "source": [
    "print(dependent_variable)"
   ]
  },
  {
   "cell_type": "code",
   "execution_count": 61,
   "id": "3721f17d",
   "metadata": {},
   "outputs": [
    {
     "data": {
      "text/html": [
       "<div>\n",
       "<style scoped>\n",
       "    .dataframe tbody tr th:only-of-type {\n",
       "        vertical-align: middle;\n",
       "    }\n",
       "\n",
       "    .dataframe tbody tr th {\n",
       "        vertical-align: top;\n",
       "    }\n",
       "\n",
       "    .dataframe thead th {\n",
       "        text-align: right;\n",
       "    }\n",
       "</style>\n",
       "<table border=\"1\" class=\"dataframe\">\n",
       "  <thead>\n",
       "    <tr style=\"text-align: right;\">\n",
       "      <th></th>\n",
       "      <th>area</th>\n",
       "      <th>bedrooms</th>\n",
       "      <th>bathrooms</th>\n",
       "      <th>stories</th>\n",
       "      <th>mainroad</th>\n",
       "      <th>guestroom</th>\n",
       "      <th>basement</th>\n",
       "      <th>hotwaterheating</th>\n",
       "      <th>airconditioning</th>\n",
       "      <th>parking</th>\n",
       "      <th>furnishingstatus</th>\n",
       "    </tr>\n",
       "  </thead>\n",
       "  <tbody>\n",
       "    <tr>\n",
       "      <th>0</th>\n",
       "      <td>7420</td>\n",
       "      <td>4</td>\n",
       "      <td>2</td>\n",
       "      <td>3</td>\n",
       "      <td>yes</td>\n",
       "      <td>no</td>\n",
       "      <td>no</td>\n",
       "      <td>no</td>\n",
       "      <td>yes</td>\n",
       "      <td>2</td>\n",
       "      <td>furnished</td>\n",
       "    </tr>\n",
       "    <tr>\n",
       "      <th>1</th>\n",
       "      <td>8960</td>\n",
       "      <td>4</td>\n",
       "      <td>4</td>\n",
       "      <td>4</td>\n",
       "      <td>yes</td>\n",
       "      <td>no</td>\n",
       "      <td>no</td>\n",
       "      <td>no</td>\n",
       "      <td>yes</td>\n",
       "      <td>3</td>\n",
       "      <td>furnished</td>\n",
       "    </tr>\n",
       "    <tr>\n",
       "      <th>2</th>\n",
       "      <td>9960</td>\n",
       "      <td>3</td>\n",
       "      <td>2</td>\n",
       "      <td>2</td>\n",
       "      <td>yes</td>\n",
       "      <td>no</td>\n",
       "      <td>yes</td>\n",
       "      <td>no</td>\n",
       "      <td>no</td>\n",
       "      <td>2</td>\n",
       "      <td>semi-furnished</td>\n",
       "    </tr>\n",
       "    <tr>\n",
       "      <th>3</th>\n",
       "      <td>7500</td>\n",
       "      <td>4</td>\n",
       "      <td>2</td>\n",
       "      <td>2</td>\n",
       "      <td>yes</td>\n",
       "      <td>no</td>\n",
       "      <td>yes</td>\n",
       "      <td>no</td>\n",
       "      <td>yes</td>\n",
       "      <td>3</td>\n",
       "      <td>furnished</td>\n",
       "    </tr>\n",
       "    <tr>\n",
       "      <th>4</th>\n",
       "      <td>7420</td>\n",
       "      <td>4</td>\n",
       "      <td>1</td>\n",
       "      <td>2</td>\n",
       "      <td>yes</td>\n",
       "      <td>yes</td>\n",
       "      <td>yes</td>\n",
       "      <td>no</td>\n",
       "      <td>yes</td>\n",
       "      <td>2</td>\n",
       "      <td>furnished</td>\n",
       "    </tr>\n",
       "    <tr>\n",
       "      <th>...</th>\n",
       "      <td>...</td>\n",
       "      <td>...</td>\n",
       "      <td>...</td>\n",
       "      <td>...</td>\n",
       "      <td>...</td>\n",
       "      <td>...</td>\n",
       "      <td>...</td>\n",
       "      <td>...</td>\n",
       "      <td>...</td>\n",
       "      <td>...</td>\n",
       "      <td>...</td>\n",
       "    </tr>\n",
       "    <tr>\n",
       "      <th>540</th>\n",
       "      <td>3000</td>\n",
       "      <td>2</td>\n",
       "      <td>1</td>\n",
       "      <td>1</td>\n",
       "      <td>yes</td>\n",
       "      <td>no</td>\n",
       "      <td>yes</td>\n",
       "      <td>no</td>\n",
       "      <td>no</td>\n",
       "      <td>2</td>\n",
       "      <td>unfurnished</td>\n",
       "    </tr>\n",
       "    <tr>\n",
       "      <th>541</th>\n",
       "      <td>2400</td>\n",
       "      <td>3</td>\n",
       "      <td>1</td>\n",
       "      <td>1</td>\n",
       "      <td>no</td>\n",
       "      <td>no</td>\n",
       "      <td>no</td>\n",
       "      <td>no</td>\n",
       "      <td>no</td>\n",
       "      <td>0</td>\n",
       "      <td>semi-furnished</td>\n",
       "    </tr>\n",
       "    <tr>\n",
       "      <th>542</th>\n",
       "      <td>3620</td>\n",
       "      <td>2</td>\n",
       "      <td>1</td>\n",
       "      <td>1</td>\n",
       "      <td>yes</td>\n",
       "      <td>no</td>\n",
       "      <td>no</td>\n",
       "      <td>no</td>\n",
       "      <td>no</td>\n",
       "      <td>0</td>\n",
       "      <td>unfurnished</td>\n",
       "    </tr>\n",
       "    <tr>\n",
       "      <th>543</th>\n",
       "      <td>2910</td>\n",
       "      <td>3</td>\n",
       "      <td>1</td>\n",
       "      <td>1</td>\n",
       "      <td>no</td>\n",
       "      <td>no</td>\n",
       "      <td>no</td>\n",
       "      <td>no</td>\n",
       "      <td>no</td>\n",
       "      <td>0</td>\n",
       "      <td>furnished</td>\n",
       "    </tr>\n",
       "    <tr>\n",
       "      <th>544</th>\n",
       "      <td>3850</td>\n",
       "      <td>3</td>\n",
       "      <td>1</td>\n",
       "      <td>2</td>\n",
       "      <td>yes</td>\n",
       "      <td>no</td>\n",
       "      <td>no</td>\n",
       "      <td>no</td>\n",
       "      <td>no</td>\n",
       "      <td>0</td>\n",
       "      <td>unfurnished</td>\n",
       "    </tr>\n",
       "  </tbody>\n",
       "</table>\n",
       "<p>545 rows × 11 columns</p>\n",
       "</div>"
      ],
      "text/plain": [
       "     area  bedrooms  bathrooms  stories mainroad guestroom basement  \\\n",
       "0    7420         4          2        3      yes        no       no   \n",
       "1    8960         4          4        4      yes        no       no   \n",
       "2    9960         3          2        2      yes        no      yes   \n",
       "3    7500         4          2        2      yes        no      yes   \n",
       "4    7420         4          1        2      yes       yes      yes   \n",
       "..    ...       ...        ...      ...      ...       ...      ...   \n",
       "540  3000         2          1        1      yes        no      yes   \n",
       "541  2400         3          1        1       no        no       no   \n",
       "542  3620         2          1        1      yes        no       no   \n",
       "543  2910         3          1        1       no        no       no   \n",
       "544  3850         3          1        2      yes        no       no   \n",
       "\n",
       "    hotwaterheating airconditioning  parking furnishingstatus  \n",
       "0                no             yes        2        furnished  \n",
       "1                no             yes        3        furnished  \n",
       "2                no              no        2   semi-furnished  \n",
       "3                no             yes        3        furnished  \n",
       "4                no             yes        2        furnished  \n",
       "..              ...             ...      ...              ...  \n",
       "540              no              no        2      unfurnished  \n",
       "541              no              no        0   semi-furnished  \n",
       "542              no              no        0      unfurnished  \n",
       "543              no              no        0        furnished  \n",
       "544              no              no        0      unfurnished  \n",
       "\n",
       "[545 rows x 11 columns]"
      ]
     },
     "execution_count": 61,
     "metadata": {},
     "output_type": "execute_result"
    }
   ],
   "source": [
    "independent_variables"
   ]
  },
  {
   "cell_type": "code",
   "execution_count": 62,
   "id": "c114191b",
   "metadata": {
    "scrolled": true
   },
   "outputs": [
    {
     "name": "stdout",
     "output_type": "stream",
     "text": [
      "     area  bedrooms  bathrooms  stories mainroad guestroom basement  \\\n",
      "0    7420         4          2        3      yes        no       no   \n",
      "1    8960         4          4        4      yes        no       no   \n",
      "2    9960         3          2        2      yes        no      yes   \n",
      "3    7500         4          2        2      yes        no      yes   \n",
      "4    7420         4          1        2      yes       yes      yes   \n",
      "..    ...       ...        ...      ...      ...       ...      ...   \n",
      "540  3000         2          1        1      yes        no      yes   \n",
      "541  2400         3          1        1       no        no       no   \n",
      "542  3620         2          1        1      yes        no       no   \n",
      "543  2910         3          1        1       no        no       no   \n",
      "544  3850         3          1        2      yes        no       no   \n",
      "\n",
      "    hotwaterheating airconditioning  parking furnishingstatus  \n",
      "0                no             yes        2        furnished  \n",
      "1                no             yes        3        furnished  \n",
      "2                no              no        2   semi-furnished  \n",
      "3                no             yes        3        furnished  \n",
      "4                no             yes        2        furnished  \n",
      "..              ...             ...      ...              ...  \n",
      "540              no              no        2      unfurnished  \n",
      "541              no              no        0   semi-furnished  \n",
      "542              no              no        0      unfurnished  \n",
      "543              no              no        0        furnished  \n",
      "544              no              no        0      unfurnished  \n",
      "\n",
      "[545 rows x 11 columns]\n"
     ]
    }
   ],
   "source": [
    "print(independent_variables)"
   ]
  },
  {
   "cell_type": "markdown",
   "id": "b1863749",
   "metadata": {},
   "source": [
    "## 9. Scale the independent variables"
   ]
  },
  {
   "cell_type": "code",
   "execution_count": 63,
   "id": "b32af033",
   "metadata": {},
   "outputs": [],
   "source": [
    "#9. Scale the independent variables\n",
    "from sklearn.preprocessing import StandardScaler\n",
    "columns_to_scale = ['price', 'bedrooms', 'bathrooms', 'area', 'stories', 'parking']\n",
    "scaler = StandardScaler()\n",
    "df[columns_to_scale] = scaler.fit_transform(df[columns_to_scale])"
   ]
  },
  {
   "cell_type": "code",
   "execution_count": 64,
   "id": "5c68103d",
   "metadata": {},
   "outputs": [
    {
     "data": {
      "text/html": [
       "<div>\n",
       "<style scoped>\n",
       "    .dataframe tbody tr th:only-of-type {\n",
       "        vertical-align: middle;\n",
       "    }\n",
       "\n",
       "    .dataframe tbody tr th {\n",
       "        vertical-align: top;\n",
       "    }\n",
       "\n",
       "    .dataframe thead th {\n",
       "        text-align: right;\n",
       "    }\n",
       "</style>\n",
       "<table border=\"1\" class=\"dataframe\">\n",
       "  <thead>\n",
       "    <tr style=\"text-align: right;\">\n",
       "      <th></th>\n",
       "      <th>price</th>\n",
       "      <th>area</th>\n",
       "      <th>bedrooms</th>\n",
       "      <th>bathrooms</th>\n",
       "      <th>stories</th>\n",
       "      <th>mainroad</th>\n",
       "      <th>guestroom</th>\n",
       "      <th>basement</th>\n",
       "      <th>hotwaterheating</th>\n",
       "      <th>airconditioning</th>\n",
       "      <th>parking</th>\n",
       "      <th>furnishingstatus</th>\n",
       "    </tr>\n",
       "  </thead>\n",
       "  <tbody>\n",
       "    <tr>\n",
       "      <th>0</th>\n",
       "      <td>2.175477</td>\n",
       "      <td>1.046726</td>\n",
       "      <td>1.403419</td>\n",
       "      <td>1.421812</td>\n",
       "      <td>1.378217</td>\n",
       "      <td>yes</td>\n",
       "      <td>no</td>\n",
       "      <td>no</td>\n",
       "      <td>no</td>\n",
       "      <td>yes</td>\n",
       "      <td>1.517692</td>\n",
       "      <td>furnished</td>\n",
       "    </tr>\n",
       "    <tr>\n",
       "      <th>1</th>\n",
       "      <td>2.157685</td>\n",
       "      <td>1.757010</td>\n",
       "      <td>1.403419</td>\n",
       "      <td>5.405809</td>\n",
       "      <td>2.532024</td>\n",
       "      <td>yes</td>\n",
       "      <td>no</td>\n",
       "      <td>no</td>\n",
       "      <td>no</td>\n",
       "      <td>yes</td>\n",
       "      <td>2.679409</td>\n",
       "      <td>furnished</td>\n",
       "    </tr>\n",
       "    <tr>\n",
       "      <th>2</th>\n",
       "      <td>2.157685</td>\n",
       "      <td>2.218232</td>\n",
       "      <td>0.047278</td>\n",
       "      <td>1.421812</td>\n",
       "      <td>0.224410</td>\n",
       "      <td>yes</td>\n",
       "      <td>no</td>\n",
       "      <td>yes</td>\n",
       "      <td>no</td>\n",
       "      <td>no</td>\n",
       "      <td>1.517692</td>\n",
       "      <td>semi-furnished</td>\n",
       "    </tr>\n",
       "    <tr>\n",
       "      <th>3</th>\n",
       "      <td>2.139893</td>\n",
       "      <td>1.083624</td>\n",
       "      <td>1.403419</td>\n",
       "      <td>1.421812</td>\n",
       "      <td>0.224410</td>\n",
       "      <td>yes</td>\n",
       "      <td>no</td>\n",
       "      <td>yes</td>\n",
       "      <td>no</td>\n",
       "      <td>yes</td>\n",
       "      <td>2.679409</td>\n",
       "      <td>furnished</td>\n",
       "    </tr>\n",
       "    <tr>\n",
       "      <th>4</th>\n",
       "      <td>2.122101</td>\n",
       "      <td>1.046726</td>\n",
       "      <td>1.403419</td>\n",
       "      <td>-0.570187</td>\n",
       "      <td>0.224410</td>\n",
       "      <td>yes</td>\n",
       "      <td>yes</td>\n",
       "      <td>yes</td>\n",
       "      <td>no</td>\n",
       "      <td>yes</td>\n",
       "      <td>1.517692</td>\n",
       "      <td>furnished</td>\n",
       "    </tr>\n",
       "    <tr>\n",
       "      <th>...</th>\n",
       "      <td>...</td>\n",
       "      <td>...</td>\n",
       "      <td>...</td>\n",
       "      <td>...</td>\n",
       "      <td>...</td>\n",
       "      <td>...</td>\n",
       "      <td>...</td>\n",
       "      <td>...</td>\n",
       "      <td>...</td>\n",
       "      <td>...</td>\n",
       "      <td>...</td>\n",
       "      <td>...</td>\n",
       "    </tr>\n",
       "    <tr>\n",
       "      <th>540</th>\n",
       "      <td>-1.667633</td>\n",
       "      <td>-0.991879</td>\n",
       "      <td>-1.308863</td>\n",
       "      <td>-0.570187</td>\n",
       "      <td>-0.929397</td>\n",
       "      <td>yes</td>\n",
       "      <td>no</td>\n",
       "      <td>yes</td>\n",
       "      <td>no</td>\n",
       "      <td>no</td>\n",
       "      <td>1.517692</td>\n",
       "      <td>unfurnished</td>\n",
       "    </tr>\n",
       "    <tr>\n",
       "      <th>541</th>\n",
       "      <td>-1.685425</td>\n",
       "      <td>-1.268613</td>\n",
       "      <td>0.047278</td>\n",
       "      <td>-0.570187</td>\n",
       "      <td>-0.929397</td>\n",
       "      <td>no</td>\n",
       "      <td>no</td>\n",
       "      <td>no</td>\n",
       "      <td>no</td>\n",
       "      <td>no</td>\n",
       "      <td>-0.805741</td>\n",
       "      <td>semi-furnished</td>\n",
       "    </tr>\n",
       "    <tr>\n",
       "      <th>542</th>\n",
       "      <td>-1.703217</td>\n",
       "      <td>-0.705921</td>\n",
       "      <td>-1.308863</td>\n",
       "      <td>-0.570187</td>\n",
       "      <td>-0.929397</td>\n",
       "      <td>yes</td>\n",
       "      <td>no</td>\n",
       "      <td>no</td>\n",
       "      <td>no</td>\n",
       "      <td>no</td>\n",
       "      <td>-0.805741</td>\n",
       "      <td>unfurnished</td>\n",
       "    </tr>\n",
       "    <tr>\n",
       "      <th>543</th>\n",
       "      <td>-1.703217</td>\n",
       "      <td>-1.033389</td>\n",
       "      <td>0.047278</td>\n",
       "      <td>-0.570187</td>\n",
       "      <td>-0.929397</td>\n",
       "      <td>no</td>\n",
       "      <td>no</td>\n",
       "      <td>no</td>\n",
       "      <td>no</td>\n",
       "      <td>no</td>\n",
       "      <td>-0.805741</td>\n",
       "      <td>furnished</td>\n",
       "    </tr>\n",
       "    <tr>\n",
       "      <th>544</th>\n",
       "      <td>-1.703217</td>\n",
       "      <td>-0.599839</td>\n",
       "      <td>0.047278</td>\n",
       "      <td>-0.570187</td>\n",
       "      <td>0.224410</td>\n",
       "      <td>yes</td>\n",
       "      <td>no</td>\n",
       "      <td>no</td>\n",
       "      <td>no</td>\n",
       "      <td>no</td>\n",
       "      <td>-0.805741</td>\n",
       "      <td>unfurnished</td>\n",
       "    </tr>\n",
       "  </tbody>\n",
       "</table>\n",
       "<p>545 rows × 12 columns</p>\n",
       "</div>"
      ],
      "text/plain": [
       "        price      area  bedrooms  bathrooms   stories mainroad guestroom  \\\n",
       "0    2.175477  1.046726  1.403419   1.421812  1.378217      yes        no   \n",
       "1    2.157685  1.757010  1.403419   5.405809  2.532024      yes        no   \n",
       "2    2.157685  2.218232  0.047278   1.421812  0.224410      yes        no   \n",
       "3    2.139893  1.083624  1.403419   1.421812  0.224410      yes        no   \n",
       "4    2.122101  1.046726  1.403419  -0.570187  0.224410      yes       yes   \n",
       "..        ...       ...       ...        ...       ...      ...       ...   \n",
       "540 -1.667633 -0.991879 -1.308863  -0.570187 -0.929397      yes        no   \n",
       "541 -1.685425 -1.268613  0.047278  -0.570187 -0.929397       no        no   \n",
       "542 -1.703217 -0.705921 -1.308863  -0.570187 -0.929397      yes        no   \n",
       "543 -1.703217 -1.033389  0.047278  -0.570187 -0.929397       no        no   \n",
       "544 -1.703217 -0.599839  0.047278  -0.570187  0.224410      yes        no   \n",
       "\n",
       "    basement hotwaterheating airconditioning   parking furnishingstatus  \n",
       "0         no              no             yes  1.517692        furnished  \n",
       "1         no              no             yes  2.679409        furnished  \n",
       "2        yes              no              no  1.517692   semi-furnished  \n",
       "3        yes              no             yes  2.679409        furnished  \n",
       "4        yes              no             yes  1.517692        furnished  \n",
       "..       ...             ...             ...       ...              ...  \n",
       "540      yes              no              no  1.517692      unfurnished  \n",
       "541       no              no              no -0.805741   semi-furnished  \n",
       "542       no              no              no -0.805741      unfurnished  \n",
       "543       no              no              no -0.805741        furnished  \n",
       "544       no              no              no -0.805741      unfurnished  \n",
       "\n",
       "[545 rows x 12 columns]"
      ]
     },
     "execution_count": 64,
     "metadata": {},
     "output_type": "execute_result"
    }
   ],
   "source": [
    "df"
   ]
  },
  {
   "cell_type": "code",
   "execution_count": 65,
   "id": "f09719c4",
   "metadata": {
    "scrolled": true
   },
   "outputs": [
    {
     "name": "stdout",
     "output_type": "stream",
     "text": [
      "        price      area  bedrooms  bathrooms   stories mainroad guestroom  \\\n",
      "0    2.175477  1.046726  1.403419   1.421812  1.378217      yes        no   \n",
      "1    2.157685  1.757010  1.403419   5.405809  2.532024      yes        no   \n",
      "2    2.157685  2.218232  0.047278   1.421812  0.224410      yes        no   \n",
      "3    2.139893  1.083624  1.403419   1.421812  0.224410      yes        no   \n",
      "4    2.122101  1.046726  1.403419  -0.570187  0.224410      yes       yes   \n",
      "..        ...       ...       ...        ...       ...      ...       ...   \n",
      "540 -1.667633 -0.991879 -1.308863  -0.570187 -0.929397      yes        no   \n",
      "541 -1.685425 -1.268613  0.047278  -0.570187 -0.929397       no        no   \n",
      "542 -1.703217 -0.705921 -1.308863  -0.570187 -0.929397      yes        no   \n",
      "543 -1.703217 -1.033389  0.047278  -0.570187 -0.929397       no        no   \n",
      "544 -1.703217 -0.599839  0.047278  -0.570187  0.224410      yes        no   \n",
      "\n",
      "    basement hotwaterheating airconditioning   parking furnishingstatus  \n",
      "0         no              no             yes  1.517692        furnished  \n",
      "1         no              no             yes  2.679409        furnished  \n",
      "2        yes              no              no  1.517692   semi-furnished  \n",
      "3        yes              no             yes  2.679409        furnished  \n",
      "4        yes              no             yes  1.517692        furnished  \n",
      "..       ...             ...             ...       ...              ...  \n",
      "540      yes              no              no  1.517692      unfurnished  \n",
      "541       no              no              no -0.805741   semi-furnished  \n",
      "542       no              no              no -0.805741      unfurnished  \n",
      "543       no              no              no -0.805741        furnished  \n",
      "544       no              no              no -0.805741      unfurnished  \n",
      "\n",
      "[545 rows x 12 columns]\n"
     ]
    }
   ],
   "source": [
    "print(df)"
   ]
  },
  {
   "cell_type": "markdown",
   "id": "58bc08f4",
   "metadata": {},
   "source": [
    "## 10.Split the data into training and testing"
   ]
  },
  {
   "cell_type": "code",
   "execution_count": 66,
   "id": "575bfe8d",
   "metadata": {},
   "outputs": [],
   "source": [
    "#10.Split the data into training and testing\n",
    "from sklearn.model_selection import train_test_split\n",
    "X = df.drop('price', axis=1)  \n",
    "y = df['price']  \n",
    "X_train, X_test, y_train, y_test = train_test_split(X, y, test_size=0.25, random_state=42)"
   ]
  },
  {
   "cell_type": "code",
   "execution_count": 67,
   "id": "ef676ced",
   "metadata": {},
   "outputs": [
    {
     "data": {
      "text/html": [
       "<div>\n",
       "<style scoped>\n",
       "    .dataframe tbody tr th:only-of-type {\n",
       "        vertical-align: middle;\n",
       "    }\n",
       "\n",
       "    .dataframe tbody tr th {\n",
       "        vertical-align: top;\n",
       "    }\n",
       "\n",
       "    .dataframe thead th {\n",
       "        text-align: right;\n",
       "    }\n",
       "</style>\n",
       "<table border=\"1\" class=\"dataframe\">\n",
       "  <thead>\n",
       "    <tr style=\"text-align: right;\">\n",
       "      <th></th>\n",
       "      <th>area</th>\n",
       "      <th>bedrooms</th>\n",
       "      <th>bathrooms</th>\n",
       "      <th>stories</th>\n",
       "      <th>mainroad</th>\n",
       "      <th>guestroom</th>\n",
       "      <th>basement</th>\n",
       "      <th>hotwaterheating</th>\n",
       "      <th>airconditioning</th>\n",
       "      <th>parking</th>\n",
       "      <th>furnishingstatus</th>\n",
       "    </tr>\n",
       "  </thead>\n",
       "  <tbody>\n",
       "    <tr>\n",
       "      <th>167</th>\n",
       "      <td>-0.253922</td>\n",
       "      <td>-1.308863</td>\n",
       "      <td>1.421812</td>\n",
       "      <td>-0.929397</td>\n",
       "      <td>yes</td>\n",
       "      <td>no</td>\n",
       "      <td>no</td>\n",
       "      <td>no</td>\n",
       "      <td>yes</td>\n",
       "      <td>1.517692</td>\n",
       "      <td>semi-furnished</td>\n",
       "    </tr>\n",
       "    <tr>\n",
       "      <th>368</th>\n",
       "      <td>0.225750</td>\n",
       "      <td>-1.308863</td>\n",
       "      <td>-0.570187</td>\n",
       "      <td>-0.929397</td>\n",
       "      <td>no</td>\n",
       "      <td>no</td>\n",
       "      <td>no</td>\n",
       "      <td>no</td>\n",
       "      <td>no</td>\n",
       "      <td>-0.805741</td>\n",
       "      <td>semi-furnished</td>\n",
       "    </tr>\n",
       "    <tr>\n",
       "      <th>301</th>\n",
       "      <td>-0.752043</td>\n",
       "      <td>0.047278</td>\n",
       "      <td>-0.570187</td>\n",
       "      <td>0.224410</td>\n",
       "      <td>yes</td>\n",
       "      <td>no</td>\n",
       "      <td>no</td>\n",
       "      <td>no</td>\n",
       "      <td>no</td>\n",
       "      <td>-0.805741</td>\n",
       "      <td>semi-furnished</td>\n",
       "    </tr>\n",
       "    <tr>\n",
       "      <th>527</th>\n",
       "      <td>-1.528742</td>\n",
       "      <td>-1.308863</td>\n",
       "      <td>-0.570187</td>\n",
       "      <td>-0.929397</td>\n",
       "      <td>no</td>\n",
       "      <td>no</td>\n",
       "      <td>yes</td>\n",
       "      <td>no</td>\n",
       "      <td>no</td>\n",
       "      <td>-0.805741</td>\n",
       "      <td>semi-furnished</td>\n",
       "    </tr>\n",
       "    <tr>\n",
       "      <th>382</th>\n",
       "      <td>-0.922695</td>\n",
       "      <td>0.047278</td>\n",
       "      <td>-0.570187</td>\n",
       "      <td>0.224410</td>\n",
       "      <td>yes</td>\n",
       "      <td>no</td>\n",
       "      <td>yes</td>\n",
       "      <td>no</td>\n",
       "      <td>no</td>\n",
       "      <td>-0.805741</td>\n",
       "      <td>furnished</td>\n",
       "    </tr>\n",
       "    <tr>\n",
       "      <th>...</th>\n",
       "      <td>...</td>\n",
       "      <td>...</td>\n",
       "      <td>...</td>\n",
       "      <td>...</td>\n",
       "      <td>...</td>\n",
       "      <td>...</td>\n",
       "      <td>...</td>\n",
       "      <td>...</td>\n",
       "      <td>...</td>\n",
       "      <td>...</td>\n",
       "      <td>...</td>\n",
       "    </tr>\n",
       "    <tr>\n",
       "      <th>71</th>\n",
       "      <td>0.391790</td>\n",
       "      <td>1.403419</td>\n",
       "      <td>1.421812</td>\n",
       "      <td>2.532024</td>\n",
       "      <td>yes</td>\n",
       "      <td>no</td>\n",
       "      <td>no</td>\n",
       "      <td>no</td>\n",
       "      <td>yes</td>\n",
       "      <td>-0.805741</td>\n",
       "      <td>unfurnished</td>\n",
       "    </tr>\n",
       "    <tr>\n",
       "      <th>106</th>\n",
       "      <td>0.138117</td>\n",
       "      <td>1.403419</td>\n",
       "      <td>1.421812</td>\n",
       "      <td>-0.929397</td>\n",
       "      <td>yes</td>\n",
       "      <td>no</td>\n",
       "      <td>yes</td>\n",
       "      <td>no</td>\n",
       "      <td>yes</td>\n",
       "      <td>-0.805741</td>\n",
       "      <td>semi-furnished</td>\n",
       "    </tr>\n",
       "    <tr>\n",
       "      <th>270</th>\n",
       "      <td>-0.300045</td>\n",
       "      <td>0.047278</td>\n",
       "      <td>1.421812</td>\n",
       "      <td>1.378217</td>\n",
       "      <td>yes</td>\n",
       "      <td>no</td>\n",
       "      <td>no</td>\n",
       "      <td>yes</td>\n",
       "      <td>no</td>\n",
       "      <td>0.355976</td>\n",
       "      <td>furnished</td>\n",
       "    </tr>\n",
       "    <tr>\n",
       "      <th>435</th>\n",
       "      <td>-0.512207</td>\n",
       "      <td>-1.308863</td>\n",
       "      <td>-0.570187</td>\n",
       "      <td>-0.929397</td>\n",
       "      <td>yes</td>\n",
       "      <td>no</td>\n",
       "      <td>no</td>\n",
       "      <td>no</td>\n",
       "      <td>no</td>\n",
       "      <td>-0.805741</td>\n",
       "      <td>unfurnished</td>\n",
       "    </tr>\n",
       "    <tr>\n",
       "      <th>102</th>\n",
       "      <td>0.161178</td>\n",
       "      <td>0.047278</td>\n",
       "      <td>1.421812</td>\n",
       "      <td>2.532024</td>\n",
       "      <td>yes</td>\n",
       "      <td>yes</td>\n",
       "      <td>no</td>\n",
       "      <td>no</td>\n",
       "      <td>yes</td>\n",
       "      <td>0.355976</td>\n",
       "      <td>semi-furnished</td>\n",
       "    </tr>\n",
       "  </tbody>\n",
       "</table>\n",
       "<p>408 rows × 11 columns</p>\n",
       "</div>"
      ],
      "text/plain": [
       "         area  bedrooms  bathrooms   stories mainroad guestroom basement  \\\n",
       "167 -0.253922 -1.308863   1.421812 -0.929397      yes        no       no   \n",
       "368  0.225750 -1.308863  -0.570187 -0.929397       no        no       no   \n",
       "301 -0.752043  0.047278  -0.570187  0.224410      yes        no       no   \n",
       "527 -1.528742 -1.308863  -0.570187 -0.929397       no        no      yes   \n",
       "382 -0.922695  0.047278  -0.570187  0.224410      yes        no      yes   \n",
       "..        ...       ...        ...       ...      ...       ...      ...   \n",
       "71   0.391790  1.403419   1.421812  2.532024      yes        no       no   \n",
       "106  0.138117  1.403419   1.421812 -0.929397      yes        no      yes   \n",
       "270 -0.300045  0.047278   1.421812  1.378217      yes        no       no   \n",
       "435 -0.512207 -1.308863  -0.570187 -0.929397      yes        no       no   \n",
       "102  0.161178  0.047278   1.421812  2.532024      yes       yes       no   \n",
       "\n",
       "    hotwaterheating airconditioning   parking furnishingstatus  \n",
       "167              no             yes  1.517692   semi-furnished  \n",
       "368              no              no -0.805741   semi-furnished  \n",
       "301              no              no -0.805741   semi-furnished  \n",
       "527              no              no -0.805741   semi-furnished  \n",
       "382              no              no -0.805741        furnished  \n",
       "..              ...             ...       ...              ...  \n",
       "71               no             yes -0.805741      unfurnished  \n",
       "106              no             yes -0.805741   semi-furnished  \n",
       "270             yes              no  0.355976        furnished  \n",
       "435              no              no -0.805741      unfurnished  \n",
       "102              no             yes  0.355976   semi-furnished  \n",
       "\n",
       "[408 rows x 11 columns]"
      ]
     },
     "execution_count": 67,
     "metadata": {},
     "output_type": "execute_result"
    }
   ],
   "source": [
    "X_train\n"
   ]
  },
  {
   "cell_type": "code",
   "execution_count": 68,
   "id": "cbec7420",
   "metadata": {},
   "outputs": [
    {
     "data": {
      "text/html": [
       "<div>\n",
       "<style scoped>\n",
       "    .dataframe tbody tr th:only-of-type {\n",
       "        vertical-align: middle;\n",
       "    }\n",
       "\n",
       "    .dataframe tbody tr th {\n",
       "        vertical-align: top;\n",
       "    }\n",
       "\n",
       "    .dataframe thead th {\n",
       "        text-align: right;\n",
       "    }\n",
       "</style>\n",
       "<table border=\"1\" class=\"dataframe\">\n",
       "  <thead>\n",
       "    <tr style=\"text-align: right;\">\n",
       "      <th></th>\n",
       "      <th>area</th>\n",
       "      <th>bedrooms</th>\n",
       "      <th>bathrooms</th>\n",
       "      <th>stories</th>\n",
       "      <th>mainroad</th>\n",
       "      <th>guestroom</th>\n",
       "      <th>basement</th>\n",
       "      <th>hotwaterheating</th>\n",
       "      <th>airconditioning</th>\n",
       "      <th>parking</th>\n",
       "      <th>furnishingstatus</th>\n",
       "    </tr>\n",
       "  </thead>\n",
       "  <tbody>\n",
       "    <tr>\n",
       "      <th>316</th>\n",
       "      <td>0.345668</td>\n",
       "      <td>1.403419</td>\n",
       "      <td>1.421812</td>\n",
       "      <td>0.224410</td>\n",
       "      <td>no</td>\n",
       "      <td>no</td>\n",
       "      <td>yes</td>\n",
       "      <td>no</td>\n",
       "      <td>no</td>\n",
       "      <td>0.355976</td>\n",
       "      <td>unfurnished</td>\n",
       "    </tr>\n",
       "    <tr>\n",
       "      <th>77</th>\n",
       "      <td>0.622401</td>\n",
       "      <td>0.047278</td>\n",
       "      <td>1.421812</td>\n",
       "      <td>1.378217</td>\n",
       "      <td>yes</td>\n",
       "      <td>no</td>\n",
       "      <td>no</td>\n",
       "      <td>no</td>\n",
       "      <td>yes</td>\n",
       "      <td>-0.805741</td>\n",
       "      <td>furnished</td>\n",
       "    </tr>\n",
       "    <tr>\n",
       "      <th>360</th>\n",
       "      <td>-0.512207</td>\n",
       "      <td>-1.308863</td>\n",
       "      <td>-0.570187</td>\n",
       "      <td>-0.929397</td>\n",
       "      <td>yes</td>\n",
       "      <td>no</td>\n",
       "      <td>no</td>\n",
       "      <td>no</td>\n",
       "      <td>no</td>\n",
       "      <td>-0.805741</td>\n",
       "      <td>semi-furnished</td>\n",
       "    </tr>\n",
       "    <tr>\n",
       "      <th>90</th>\n",
       "      <td>-0.069433</td>\n",
       "      <td>0.047278</td>\n",
       "      <td>-0.570187</td>\n",
       "      <td>0.224410</td>\n",
       "      <td>yes</td>\n",
       "      <td>no</td>\n",
       "      <td>no</td>\n",
       "      <td>no</td>\n",
       "      <td>yes</td>\n",
       "      <td>-0.805741</td>\n",
       "      <td>semi-furnished</td>\n",
       "    </tr>\n",
       "    <tr>\n",
       "      <th>493</th>\n",
       "      <td>-0.549105</td>\n",
       "      <td>0.047278</td>\n",
       "      <td>-0.570187</td>\n",
       "      <td>-0.929397</td>\n",
       "      <td>yes</td>\n",
       "      <td>no</td>\n",
       "      <td>no</td>\n",
       "      <td>no</td>\n",
       "      <td>no</td>\n",
       "      <td>-0.805741</td>\n",
       "      <td>furnished</td>\n",
       "    </tr>\n",
       "    <tr>\n",
       "      <th>...</th>\n",
       "      <td>...</td>\n",
       "      <td>...</td>\n",
       "      <td>...</td>\n",
       "      <td>...</td>\n",
       "      <td>...</td>\n",
       "      <td>...</td>\n",
       "      <td>...</td>\n",
       "      <td>...</td>\n",
       "      <td>...</td>\n",
       "      <td>...</td>\n",
       "      <td>...</td>\n",
       "    </tr>\n",
       "    <tr>\n",
       "      <th>172</th>\n",
       "      <td>1.498725</td>\n",
       "      <td>0.047278</td>\n",
       "      <td>-0.570187</td>\n",
       "      <td>0.224410</td>\n",
       "      <td>yes</td>\n",
       "      <td>yes</td>\n",
       "      <td>yes</td>\n",
       "      <td>no</td>\n",
       "      <td>yes</td>\n",
       "      <td>1.517692</td>\n",
       "      <td>unfurnished</td>\n",
       "    </tr>\n",
       "    <tr>\n",
       "      <th>124</th>\n",
       "      <td>0.633932</td>\n",
       "      <td>0.047278</td>\n",
       "      <td>1.421812</td>\n",
       "      <td>2.532024</td>\n",
       "      <td>yes</td>\n",
       "      <td>no</td>\n",
       "      <td>no</td>\n",
       "      <td>no</td>\n",
       "      <td>no</td>\n",
       "      <td>0.355976</td>\n",
       "      <td>furnished</td>\n",
       "    </tr>\n",
       "    <tr>\n",
       "      <th>388</th>\n",
       "      <td>-0.692084</td>\n",
       "      <td>0.047278</td>\n",
       "      <td>-0.570187</td>\n",
       "      <td>0.224410</td>\n",
       "      <td>yes</td>\n",
       "      <td>no</td>\n",
       "      <td>no</td>\n",
       "      <td>no</td>\n",
       "      <td>no</td>\n",
       "      <td>-0.805741</td>\n",
       "      <td>unfurnished</td>\n",
       "    </tr>\n",
       "    <tr>\n",
       "      <th>521</th>\n",
       "      <td>-0.699002</td>\n",
       "      <td>-1.308863</td>\n",
       "      <td>-0.570187</td>\n",
       "      <td>-0.929397</td>\n",
       "      <td>no</td>\n",
       "      <td>no</td>\n",
       "      <td>no</td>\n",
       "      <td>no</td>\n",
       "      <td>no</td>\n",
       "      <td>-0.805741</td>\n",
       "      <td>unfurnished</td>\n",
       "    </tr>\n",
       "    <tr>\n",
       "      <th>503</th>\n",
       "      <td>-0.530656</td>\n",
       "      <td>0.047278</td>\n",
       "      <td>-0.570187</td>\n",
       "      <td>-0.929397</td>\n",
       "      <td>yes</td>\n",
       "      <td>no</td>\n",
       "      <td>no</td>\n",
       "      <td>no</td>\n",
       "      <td>no</td>\n",
       "      <td>-0.805741</td>\n",
       "      <td>semi-furnished</td>\n",
       "    </tr>\n",
       "  </tbody>\n",
       "</table>\n",
       "<p>137 rows × 11 columns</p>\n",
       "</div>"
      ],
      "text/plain": [
       "         area  bedrooms  bathrooms   stories mainroad guestroom basement  \\\n",
       "316  0.345668  1.403419   1.421812  0.224410       no        no      yes   \n",
       "77   0.622401  0.047278   1.421812  1.378217      yes        no       no   \n",
       "360 -0.512207 -1.308863  -0.570187 -0.929397      yes        no       no   \n",
       "90  -0.069433  0.047278  -0.570187  0.224410      yes        no       no   \n",
       "493 -0.549105  0.047278  -0.570187 -0.929397      yes        no       no   \n",
       "..        ...       ...        ...       ...      ...       ...      ...   \n",
       "172  1.498725  0.047278  -0.570187  0.224410      yes       yes      yes   \n",
       "124  0.633932  0.047278   1.421812  2.532024      yes        no       no   \n",
       "388 -0.692084  0.047278  -0.570187  0.224410      yes        no       no   \n",
       "521 -0.699002 -1.308863  -0.570187 -0.929397       no        no       no   \n",
       "503 -0.530656  0.047278  -0.570187 -0.929397      yes        no       no   \n",
       "\n",
       "    hotwaterheating airconditioning   parking furnishingstatus  \n",
       "316              no              no  0.355976      unfurnished  \n",
       "77               no             yes -0.805741        furnished  \n",
       "360              no              no -0.805741   semi-furnished  \n",
       "90               no             yes -0.805741   semi-furnished  \n",
       "493              no              no -0.805741        furnished  \n",
       "..              ...             ...       ...              ...  \n",
       "172              no             yes  1.517692      unfurnished  \n",
       "124              no              no  0.355976        furnished  \n",
       "388              no              no -0.805741      unfurnished  \n",
       "521              no              no -0.805741      unfurnished  \n",
       "503              no              no -0.805741   semi-furnished  \n",
       "\n",
       "[137 rows x 11 columns]"
      ]
     },
     "execution_count": 68,
     "metadata": {},
     "output_type": "execute_result"
    }
   ],
   "source": [
    "X_test"
   ]
  },
  {
   "cell_type": "code",
   "execution_count": 69,
   "id": "8610b930",
   "metadata": {},
   "outputs": [
    {
     "data": {
      "text/plain": [
       "167    0.520805\n",
       "368   -0.635687\n",
       "301   -0.262051\n",
       "527   -1.525296\n",
       "382   -0.706855\n",
       "         ...   \n",
       "71     1.285868\n",
       "106    0.983401\n",
       "270   -0.155298\n",
       "435   -0.920362\n",
       "102    1.001194\n",
       "Name: price, Length: 408, dtype: float64"
      ]
     },
     "execution_count": 69,
     "metadata": {},
     "output_type": "execute_result"
    }
   ],
   "source": [
    "y_train"
   ]
  },
  {
   "cell_type": "code",
   "execution_count": 70,
   "id": "8a5992a6",
   "metadata": {},
   "outputs": [
    {
     "data": {
      "text/plain": [
       "316   -0.386596\n",
       "77     1.232492\n",
       "360   -0.600102\n",
       "90     1.125739\n",
       "493   -1.276205\n",
       "         ...   \n",
       "172    0.503013\n",
       "124    0.876648\n",
       "388   -0.742440\n",
       "521   -1.454127\n",
       "503   -1.329582\n",
       "Name: price, Length: 137, dtype: float64"
      ]
     },
     "execution_count": 70,
     "metadata": {},
     "output_type": "execute_result"
    }
   ],
   "source": [
    "y_test"
   ]
  },
  {
   "cell_type": "code",
   "execution_count": 71,
   "id": "e12ca8da",
   "metadata": {},
   "outputs": [],
   "source": [
    "from sklearn.preprocessing import LabelEncoder\n",
    "le=LabelEncoder()"
   ]
  },
  {
   "cell_type": "code",
   "execution_count": 72,
   "id": "9ff0a658",
   "metadata": {},
   "outputs": [],
   "source": [
    "df['mainroad']=le.fit_transform(df['mainroad'])\n",
    "df['guestroom']=le.fit_transform(df['guestroom'])\n",
    "df['basement']=le.fit_transform(df['basement'])\n",
    "df['hotwaterheating']=le.fit_transform(df['hotwaterheating'])\n",
    "df['airconditioning']=le.fit_transform(df['airconditioning'])\n",
    "df['furnishingstatus']=le.fit_transform(df['furnishingstatus'])"
   ]
  },
  {
   "cell_type": "code",
   "execution_count": 73,
   "id": "e7f3db87",
   "metadata": {
    "scrolled": true
   },
   "outputs": [
    {
     "data": {
      "text/html": [
       "<div>\n",
       "<style scoped>\n",
       "    .dataframe tbody tr th:only-of-type {\n",
       "        vertical-align: middle;\n",
       "    }\n",
       "\n",
       "    .dataframe tbody tr th {\n",
       "        vertical-align: top;\n",
       "    }\n",
       "\n",
       "    .dataframe thead th {\n",
       "        text-align: right;\n",
       "    }\n",
       "</style>\n",
       "<table border=\"1\" class=\"dataframe\">\n",
       "  <thead>\n",
       "    <tr style=\"text-align: right;\">\n",
       "      <th></th>\n",
       "      <th>price</th>\n",
       "      <th>area</th>\n",
       "      <th>bedrooms</th>\n",
       "      <th>bathrooms</th>\n",
       "      <th>stories</th>\n",
       "      <th>mainroad</th>\n",
       "      <th>guestroom</th>\n",
       "      <th>basement</th>\n",
       "      <th>hotwaterheating</th>\n",
       "      <th>airconditioning</th>\n",
       "      <th>parking</th>\n",
       "      <th>furnishingstatus</th>\n",
       "    </tr>\n",
       "  </thead>\n",
       "  <tbody>\n",
       "    <tr>\n",
       "      <th>0</th>\n",
       "      <td>2.175477</td>\n",
       "      <td>1.046726</td>\n",
       "      <td>1.403419</td>\n",
       "      <td>1.421812</td>\n",
       "      <td>1.378217</td>\n",
       "      <td>1</td>\n",
       "      <td>0</td>\n",
       "      <td>0</td>\n",
       "      <td>0</td>\n",
       "      <td>1</td>\n",
       "      <td>1.517692</td>\n",
       "      <td>0</td>\n",
       "    </tr>\n",
       "    <tr>\n",
       "      <th>1</th>\n",
       "      <td>2.157685</td>\n",
       "      <td>1.757010</td>\n",
       "      <td>1.403419</td>\n",
       "      <td>5.405809</td>\n",
       "      <td>2.532024</td>\n",
       "      <td>1</td>\n",
       "      <td>0</td>\n",
       "      <td>0</td>\n",
       "      <td>0</td>\n",
       "      <td>1</td>\n",
       "      <td>2.679409</td>\n",
       "      <td>0</td>\n",
       "    </tr>\n",
       "    <tr>\n",
       "      <th>2</th>\n",
       "      <td>2.157685</td>\n",
       "      <td>2.218232</td>\n",
       "      <td>0.047278</td>\n",
       "      <td>1.421812</td>\n",
       "      <td>0.224410</td>\n",
       "      <td>1</td>\n",
       "      <td>0</td>\n",
       "      <td>1</td>\n",
       "      <td>0</td>\n",
       "      <td>0</td>\n",
       "      <td>1.517692</td>\n",
       "      <td>1</td>\n",
       "    </tr>\n",
       "    <tr>\n",
       "      <th>3</th>\n",
       "      <td>2.139893</td>\n",
       "      <td>1.083624</td>\n",
       "      <td>1.403419</td>\n",
       "      <td>1.421812</td>\n",
       "      <td>0.224410</td>\n",
       "      <td>1</td>\n",
       "      <td>0</td>\n",
       "      <td>1</td>\n",
       "      <td>0</td>\n",
       "      <td>1</td>\n",
       "      <td>2.679409</td>\n",
       "      <td>0</td>\n",
       "    </tr>\n",
       "    <tr>\n",
       "      <th>4</th>\n",
       "      <td>2.122101</td>\n",
       "      <td>1.046726</td>\n",
       "      <td>1.403419</td>\n",
       "      <td>-0.570187</td>\n",
       "      <td>0.224410</td>\n",
       "      <td>1</td>\n",
       "      <td>1</td>\n",
       "      <td>1</td>\n",
       "      <td>0</td>\n",
       "      <td>1</td>\n",
       "      <td>1.517692</td>\n",
       "      <td>0</td>\n",
       "    </tr>\n",
       "  </tbody>\n",
       "</table>\n",
       "</div>"
      ],
      "text/plain": [
       "      price      area  bedrooms  bathrooms   stories  mainroad  guestroom  \\\n",
       "0  2.175477  1.046726  1.403419   1.421812  1.378217         1          0   \n",
       "1  2.157685  1.757010  1.403419   5.405809  2.532024         1          0   \n",
       "2  2.157685  2.218232  0.047278   1.421812  0.224410         1          0   \n",
       "3  2.139893  1.083624  1.403419   1.421812  0.224410         1          0   \n",
       "4  2.122101  1.046726  1.403419  -0.570187  0.224410         1          1   \n",
       "\n",
       "   basement  hotwaterheating  airconditioning   parking  furnishingstatus  \n",
       "0         0                0                1  1.517692                 0  \n",
       "1         0                0                1  2.679409                 0  \n",
       "2         1                0                0  1.517692                 1  \n",
       "3         1                0                1  2.679409                 0  \n",
       "4         1                0                1  1.517692                 0  "
      ]
     },
     "execution_count": 73,
     "metadata": {},
     "output_type": "execute_result"
    }
   ],
   "source": [
    "df.head()"
   ]
  },
  {
   "cell_type": "markdown",
   "id": "43289b1d",
   "metadata": {},
   "source": [
    "## 11. Build the Model"
   ]
  },
  {
   "cell_type": "code",
   "execution_count": 74,
   "id": "845882c5",
   "metadata": {},
   "outputs": [],
   "source": [
    "#11. Build the Model\n",
    "from sklearn.linear_model import LinearRegression\n",
    "model=LinearRegression()\n",
    "X_train, X_test, y_train, y_test = train_test_split(df, df['price'], test_size=0.25)"
   ]
  },
  {
   "cell_type": "code",
   "execution_count": 75,
   "id": "fb85903f",
   "metadata": {
    "scrolled": true
   },
   "outputs": [
    {
     "data": {
      "text/plain": [
       "LinearRegression()"
      ]
     },
     "execution_count": 75,
     "metadata": {},
     "output_type": "execute_result"
    }
   ],
   "source": [
    "model.fit(X_train,y_train)"
   ]
  },
  {
   "cell_type": "markdown",
   "id": "5e00edc9",
   "metadata": {},
   "source": [
    "## 12. Train the model"
   ]
  },
  {
   "cell_type": "code",
   "execution_count": 76,
   "id": "4ab5a846",
   "metadata": {},
   "outputs": [
    {
     "data": {
      "text/html": [
       "<div>\n",
       "<style scoped>\n",
       "    .dataframe tbody tr th:only-of-type {\n",
       "        vertical-align: middle;\n",
       "    }\n",
       "\n",
       "    .dataframe tbody tr th {\n",
       "        vertical-align: top;\n",
       "    }\n",
       "\n",
       "    .dataframe thead th {\n",
       "        text-align: right;\n",
       "    }\n",
       "</style>\n",
       "<table border=\"1\" class=\"dataframe\">\n",
       "  <thead>\n",
       "    <tr style=\"text-align: right;\">\n",
       "      <th></th>\n",
       "      <th>price</th>\n",
       "      <th>area</th>\n",
       "      <th>bedrooms</th>\n",
       "      <th>bathrooms</th>\n",
       "      <th>stories</th>\n",
       "      <th>mainroad</th>\n",
       "      <th>guestroom</th>\n",
       "      <th>basement</th>\n",
       "      <th>hotwaterheating</th>\n",
       "      <th>airconditioning</th>\n",
       "      <th>parking</th>\n",
       "      <th>furnishingstatus</th>\n",
       "    </tr>\n",
       "  </thead>\n",
       "  <tbody>\n",
       "    <tr>\n",
       "      <th>156</th>\n",
       "      <td>0.645350</td>\n",
       "      <td>0.806890</td>\n",
       "      <td>0.047278</td>\n",
       "      <td>-0.570187</td>\n",
       "      <td>-0.929397</td>\n",
       "      <td>1</td>\n",
       "      <td>1</td>\n",
       "      <td>1</td>\n",
       "      <td>0</td>\n",
       "      <td>0</td>\n",
       "      <td>-0.805741</td>\n",
       "      <td>1</td>\n",
       "    </tr>\n",
       "    <tr>\n",
       "      <th>29</th>\n",
       "      <td>1.801842</td>\n",
       "      <td>0.161178</td>\n",
       "      <td>1.403419</td>\n",
       "      <td>1.421812</td>\n",
       "      <td>0.224410</td>\n",
       "      <td>1</td>\n",
       "      <td>0</td>\n",
       "      <td>1</td>\n",
       "      <td>0</td>\n",
       "      <td>1</td>\n",
       "      <td>0.355976</td>\n",
       "      <td>1</td>\n",
       "    </tr>\n",
       "    <tr>\n",
       "      <th>11</th>\n",
       "      <td>2.033140</td>\n",
       "      <td>0.391790</td>\n",
       "      <td>1.403419</td>\n",
       "      <td>3.413810</td>\n",
       "      <td>0.224410</td>\n",
       "      <td>1</td>\n",
       "      <td>1</td>\n",
       "      <td>1</td>\n",
       "      <td>1</td>\n",
       "      <td>0</td>\n",
       "      <td>1.517692</td>\n",
       "      <td>1</td>\n",
       "    </tr>\n",
       "    <tr>\n",
       "      <th>180</th>\n",
       "      <td>0.449636</td>\n",
       "      <td>-0.300045</td>\n",
       "      <td>1.403419</td>\n",
       "      <td>1.421812</td>\n",
       "      <td>-0.929397</td>\n",
       "      <td>0</td>\n",
       "      <td>0</td>\n",
       "      <td>1</td>\n",
       "      <td>0</td>\n",
       "      <td>1</td>\n",
       "      <td>1.517692</td>\n",
       "      <td>1</td>\n",
       "    </tr>\n",
       "    <tr>\n",
       "      <th>247</th>\n",
       "      <td>0.022624</td>\n",
       "      <td>1.498725</td>\n",
       "      <td>1.403419</td>\n",
       "      <td>-0.570187</td>\n",
       "      <td>2.532024</td>\n",
       "      <td>1</td>\n",
       "      <td>0</td>\n",
       "      <td>0</td>\n",
       "      <td>0</td>\n",
       "      <td>0</td>\n",
       "      <td>2.679409</td>\n",
       "      <td>2</td>\n",
       "    </tr>\n",
       "    <tr>\n",
       "      <th>...</th>\n",
       "      <td>...</td>\n",
       "      <td>...</td>\n",
       "      <td>...</td>\n",
       "      <td>...</td>\n",
       "      <td>...</td>\n",
       "      <td>...</td>\n",
       "      <td>...</td>\n",
       "      <td>...</td>\n",
       "      <td>...</td>\n",
       "      <td>...</td>\n",
       "      <td>...</td>\n",
       "      <td>...</td>\n",
       "    </tr>\n",
       "    <tr>\n",
       "      <th>315</th>\n",
       "      <td>-0.368804</td>\n",
       "      <td>0.207301</td>\n",
       "      <td>-1.308863</td>\n",
       "      <td>-0.570187</td>\n",
       "      <td>-0.929397</td>\n",
       "      <td>1</td>\n",
       "      <td>0</td>\n",
       "      <td>0</td>\n",
       "      <td>0</td>\n",
       "      <td>1</td>\n",
       "      <td>-0.805741</td>\n",
       "      <td>1</td>\n",
       "    </tr>\n",
       "    <tr>\n",
       "      <th>139</th>\n",
       "      <td>0.734311</td>\n",
       "      <td>0.557830</td>\n",
       "      <td>0.047278</td>\n",
       "      <td>-0.570187</td>\n",
       "      <td>-0.929397</td>\n",
       "      <td>1</td>\n",
       "      <td>1</td>\n",
       "      <td>1</td>\n",
       "      <td>0</td>\n",
       "      <td>1</td>\n",
       "      <td>1.517692</td>\n",
       "      <td>0</td>\n",
       "    </tr>\n",
       "    <tr>\n",
       "      <th>138</th>\n",
       "      <td>0.734311</td>\n",
       "      <td>-0.069433</td>\n",
       "      <td>0.047278</td>\n",
       "      <td>-0.570187</td>\n",
       "      <td>1.378217</td>\n",
       "      <td>1</td>\n",
       "      <td>0</td>\n",
       "      <td>0</td>\n",
       "      <td>0</td>\n",
       "      <td>1</td>\n",
       "      <td>-0.805741</td>\n",
       "      <td>1</td>\n",
       "    </tr>\n",
       "    <tr>\n",
       "      <th>58</th>\n",
       "      <td>1.445998</td>\n",
       "      <td>1.166644</td>\n",
       "      <td>1.403419</td>\n",
       "      <td>1.421812</td>\n",
       "      <td>2.532024</td>\n",
       "      <td>1</td>\n",
       "      <td>1</td>\n",
       "      <td>0</td>\n",
       "      <td>0</td>\n",
       "      <td>1</td>\n",
       "      <td>0.355976</td>\n",
       "      <td>1</td>\n",
       "    </tr>\n",
       "    <tr>\n",
       "      <th>172</th>\n",
       "      <td>0.503013</td>\n",
       "      <td>1.498725</td>\n",
       "      <td>0.047278</td>\n",
       "      <td>-0.570187</td>\n",
       "      <td>0.224410</td>\n",
       "      <td>1</td>\n",
       "      <td>1</td>\n",
       "      <td>1</td>\n",
       "      <td>0</td>\n",
       "      <td>1</td>\n",
       "      <td>1.517692</td>\n",
       "      <td>2</td>\n",
       "    </tr>\n",
       "  </tbody>\n",
       "</table>\n",
       "<p>408 rows × 12 columns</p>\n",
       "</div>"
      ],
      "text/plain": [
       "        price      area  bedrooms  bathrooms   stories  mainroad  guestroom  \\\n",
       "156  0.645350  0.806890  0.047278  -0.570187 -0.929397         1          1   \n",
       "29   1.801842  0.161178  1.403419   1.421812  0.224410         1          0   \n",
       "11   2.033140  0.391790  1.403419   3.413810  0.224410         1          1   \n",
       "180  0.449636 -0.300045  1.403419   1.421812 -0.929397         0          0   \n",
       "247  0.022624  1.498725  1.403419  -0.570187  2.532024         1          0   \n",
       "..        ...       ...       ...        ...       ...       ...        ...   \n",
       "315 -0.368804  0.207301 -1.308863  -0.570187 -0.929397         1          0   \n",
       "139  0.734311  0.557830  0.047278  -0.570187 -0.929397         1          1   \n",
       "138  0.734311 -0.069433  0.047278  -0.570187  1.378217         1          0   \n",
       "58   1.445998  1.166644  1.403419   1.421812  2.532024         1          1   \n",
       "172  0.503013  1.498725  0.047278  -0.570187  0.224410         1          1   \n",
       "\n",
       "     basement  hotwaterheating  airconditioning   parking  furnishingstatus  \n",
       "156         1                0                0 -0.805741                 1  \n",
       "29          1                0                1  0.355976                 1  \n",
       "11          1                1                0  1.517692                 1  \n",
       "180         1                0                1  1.517692                 1  \n",
       "247         0                0                0  2.679409                 2  \n",
       "..        ...              ...              ...       ...               ...  \n",
       "315         0                0                1 -0.805741                 1  \n",
       "139         1                0                1  1.517692                 0  \n",
       "138         0                0                1 -0.805741                 1  \n",
       "58          0                0                1  0.355976                 1  \n",
       "172         1                0                1  1.517692                 2  \n",
       "\n",
       "[408 rows x 12 columns]"
      ]
     },
     "execution_count": 76,
     "metadata": {},
     "output_type": "execute_result"
    }
   ],
   "source": [
    "#12. Train the model\n",
    "X_train"
   ]
  },
  {
   "cell_type": "code",
   "execution_count": 77,
   "id": "82a56d50",
   "metadata": {
    "scrolled": true
   },
   "outputs": [
    {
     "data": {
      "text/plain": [
       "156    0.645350\n",
       "29     1.801842\n",
       "11     2.033140\n",
       "180    0.449636\n",
       "247    0.022624\n",
       "         ...   \n",
       "315   -0.368804\n",
       "139    0.734311\n",
       "138    0.734311\n",
       "58     1.445998\n",
       "172    0.503013\n",
       "Name: price, Length: 408, dtype: float64"
      ]
     },
     "execution_count": 77,
     "metadata": {},
     "output_type": "execute_result"
    }
   ],
   "source": [
    "y_train"
   ]
  },
  {
   "cell_type": "markdown",
   "id": "e9bba30a",
   "metadata": {},
   "source": [
    "## 13. Test the model"
   ]
  },
  {
   "cell_type": "code",
   "execution_count": 78,
   "id": "c2ca44b6",
   "metadata": {},
   "outputs": [],
   "source": [
    "#13. Test the model\n",
    "score = model.score(X_test, y_test)"
   ]
  },
  {
   "cell_type": "code",
   "execution_count": 79,
   "id": "9d6292d3",
   "metadata": {},
   "outputs": [
    {
     "data": {
      "text/html": [
       "<div>\n",
       "<style scoped>\n",
       "    .dataframe tbody tr th:only-of-type {\n",
       "        vertical-align: middle;\n",
       "    }\n",
       "\n",
       "    .dataframe tbody tr th {\n",
       "        vertical-align: top;\n",
       "    }\n",
       "\n",
       "    .dataframe thead th {\n",
       "        text-align: right;\n",
       "    }\n",
       "</style>\n",
       "<table border=\"1\" class=\"dataframe\">\n",
       "  <thead>\n",
       "    <tr style=\"text-align: right;\">\n",
       "      <th></th>\n",
       "      <th>price</th>\n",
       "      <th>area</th>\n",
       "      <th>bedrooms</th>\n",
       "      <th>bathrooms</th>\n",
       "      <th>stories</th>\n",
       "      <th>mainroad</th>\n",
       "      <th>guestroom</th>\n",
       "      <th>basement</th>\n",
       "      <th>hotwaterheating</th>\n",
       "      <th>airconditioning</th>\n",
       "      <th>parking</th>\n",
       "      <th>furnishingstatus</th>\n",
       "    </tr>\n",
       "  </thead>\n",
       "  <tbody>\n",
       "    <tr>\n",
       "      <th>340</th>\n",
       "      <td>-0.493349</td>\n",
       "      <td>0.068934</td>\n",
       "      <td>2.759560</td>\n",
       "      <td>1.421812</td>\n",
       "      <td>0.224410</td>\n",
       "      <td>1</td>\n",
       "      <td>0</td>\n",
       "      <td>0</td>\n",
       "      <td>0</td>\n",
       "      <td>0</td>\n",
       "      <td>-0.805741</td>\n",
       "      <td>1</td>\n",
       "    </tr>\n",
       "    <tr>\n",
       "      <th>108</th>\n",
       "      <td>0.947817</td>\n",
       "      <td>-0.881185</td>\n",
       "      <td>1.403419</td>\n",
       "      <td>-0.570187</td>\n",
       "      <td>1.378217</td>\n",
       "      <td>1</td>\n",
       "      <td>0</td>\n",
       "      <td>0</td>\n",
       "      <td>0</td>\n",
       "      <td>0</td>\n",
       "      <td>0.355976</td>\n",
       "      <td>1</td>\n",
       "    </tr>\n",
       "    <tr>\n",
       "      <th>222</th>\n",
       "      <td>0.147169</td>\n",
       "      <td>1.852021</td>\n",
       "      <td>-1.308863</td>\n",
       "      <td>-0.570187</td>\n",
       "      <td>-0.929397</td>\n",
       "      <td>1</td>\n",
       "      <td>0</td>\n",
       "      <td>1</td>\n",
       "      <td>0</td>\n",
       "      <td>1</td>\n",
       "      <td>1.517692</td>\n",
       "      <td>1</td>\n",
       "    </tr>\n",
       "    <tr>\n",
       "      <th>176</th>\n",
       "      <td>0.503013</td>\n",
       "      <td>1.554071</td>\n",
       "      <td>0.047278</td>\n",
       "      <td>-0.570187</td>\n",
       "      <td>-0.929397</td>\n",
       "      <td>1</td>\n",
       "      <td>0</td>\n",
       "      <td>0</td>\n",
       "      <td>0</td>\n",
       "      <td>1</td>\n",
       "      <td>1.517692</td>\n",
       "      <td>0</td>\n",
       "    </tr>\n",
       "    <tr>\n",
       "      <th>113</th>\n",
       "      <td>0.912233</td>\n",
       "      <td>2.061417</td>\n",
       "      <td>0.047278</td>\n",
       "      <td>-0.570187</td>\n",
       "      <td>-0.929397</td>\n",
       "      <td>1</td>\n",
       "      <td>0</td>\n",
       "      <td>1</td>\n",
       "      <td>0</td>\n",
       "      <td>0</td>\n",
       "      <td>1.517692</td>\n",
       "      <td>0</td>\n",
       "    </tr>\n",
       "    <tr>\n",
       "      <th>...</th>\n",
       "      <td>...</td>\n",
       "      <td>...</td>\n",
       "      <td>...</td>\n",
       "      <td>...</td>\n",
       "      <td>...</td>\n",
       "      <td>...</td>\n",
       "      <td>...</td>\n",
       "      <td>...</td>\n",
       "      <td>...</td>\n",
       "      <td>...</td>\n",
       "      <td>...</td>\n",
       "      <td>...</td>\n",
       "    </tr>\n",
       "    <tr>\n",
       "      <th>163</th>\n",
       "      <td>0.591974</td>\n",
       "      <td>0.772299</td>\n",
       "      <td>0.047278</td>\n",
       "      <td>-0.570187</td>\n",
       "      <td>-0.929397</td>\n",
       "      <td>1</td>\n",
       "      <td>1</td>\n",
       "      <td>1</td>\n",
       "      <td>0</td>\n",
       "      <td>1</td>\n",
       "      <td>-0.805741</td>\n",
       "      <td>1</td>\n",
       "    </tr>\n",
       "    <tr>\n",
       "      <th>542</th>\n",
       "      <td>-1.703217</td>\n",
       "      <td>-0.705921</td>\n",
       "      <td>-1.308863</td>\n",
       "      <td>-0.570187</td>\n",
       "      <td>-0.929397</td>\n",
       "      <td>1</td>\n",
       "      <td>0</td>\n",
       "      <td>0</td>\n",
       "      <td>0</td>\n",
       "      <td>0</td>\n",
       "      <td>-0.805741</td>\n",
       "      <td>2</td>\n",
       "    </tr>\n",
       "    <tr>\n",
       "      <th>190</th>\n",
       "      <td>0.378467</td>\n",
       "      <td>1.129746</td>\n",
       "      <td>1.403419</td>\n",
       "      <td>-0.570187</td>\n",
       "      <td>0.224410</td>\n",
       "      <td>1</td>\n",
       "      <td>0</td>\n",
       "      <td>0</td>\n",
       "      <td>0</td>\n",
       "      <td>1</td>\n",
       "      <td>1.517692</td>\n",
       "      <td>0</td>\n",
       "    </tr>\n",
       "    <tr>\n",
       "      <th>406</th>\n",
       "      <td>-0.778024</td>\n",
       "      <td>0.078158</td>\n",
       "      <td>-1.308863</td>\n",
       "      <td>-0.570187</td>\n",
       "      <td>-0.929397</td>\n",
       "      <td>1</td>\n",
       "      <td>0</td>\n",
       "      <td>0</td>\n",
       "      <td>0</td>\n",
       "      <td>0</td>\n",
       "      <td>0.355976</td>\n",
       "      <td>2</td>\n",
       "    </tr>\n",
       "    <tr>\n",
       "      <th>151</th>\n",
       "      <td>0.680934</td>\n",
       "      <td>-0.346167</td>\n",
       "      <td>1.403419</td>\n",
       "      <td>-0.570187</td>\n",
       "      <td>0.224410</td>\n",
       "      <td>1</td>\n",
       "      <td>0</td>\n",
       "      <td>0</td>\n",
       "      <td>0</td>\n",
       "      <td>1</td>\n",
       "      <td>1.517692</td>\n",
       "      <td>1</td>\n",
       "    </tr>\n",
       "  </tbody>\n",
       "</table>\n",
       "<p>137 rows × 12 columns</p>\n",
       "</div>"
      ],
      "text/plain": [
       "        price      area  bedrooms  bathrooms   stories  mainroad  guestroom  \\\n",
       "340 -0.493349  0.068934  2.759560   1.421812  0.224410         1          0   \n",
       "108  0.947817 -0.881185  1.403419  -0.570187  1.378217         1          0   \n",
       "222  0.147169  1.852021 -1.308863  -0.570187 -0.929397         1          0   \n",
       "176  0.503013  1.554071  0.047278  -0.570187 -0.929397         1          0   \n",
       "113  0.912233  2.061417  0.047278  -0.570187 -0.929397         1          0   \n",
       "..        ...       ...       ...        ...       ...       ...        ...   \n",
       "163  0.591974  0.772299  0.047278  -0.570187 -0.929397         1          1   \n",
       "542 -1.703217 -0.705921 -1.308863  -0.570187 -0.929397         1          0   \n",
       "190  0.378467  1.129746  1.403419  -0.570187  0.224410         1          0   \n",
       "406 -0.778024  0.078158 -1.308863  -0.570187 -0.929397         1          0   \n",
       "151  0.680934 -0.346167  1.403419  -0.570187  0.224410         1          0   \n",
       "\n",
       "     basement  hotwaterheating  airconditioning   parking  furnishingstatus  \n",
       "340         0                0                0 -0.805741                 1  \n",
       "108         0                0                0  0.355976                 1  \n",
       "222         1                0                1  1.517692                 1  \n",
       "176         0                0                1  1.517692                 0  \n",
       "113         1                0                0  1.517692                 0  \n",
       "..        ...              ...              ...       ...               ...  \n",
       "163         1                0                1 -0.805741                 1  \n",
       "542         0                0                0 -0.805741                 2  \n",
       "190         0                0                1  1.517692                 0  \n",
       "406         0                0                0  0.355976                 2  \n",
       "151         0                0                1  1.517692                 1  \n",
       "\n",
       "[137 rows x 12 columns]"
      ]
     },
     "execution_count": 79,
     "metadata": {},
     "output_type": "execute_result"
    }
   ],
   "source": [
    "X_test"
   ]
  },
  {
   "cell_type": "code",
   "execution_count": 80,
   "id": "ecac153a",
   "metadata": {},
   "outputs": [
    {
     "data": {
      "text/plain": [
       "340   -0.493349\n",
       "108    0.947817\n",
       "222    0.147169\n",
       "176    0.503013\n",
       "113    0.912233\n",
       "         ...   \n",
       "163    0.591974\n",
       "542   -1.703217\n",
       "190    0.378467\n",
       "406   -0.778024\n",
       "151    0.680934\n",
       "Name: price, Length: 137, dtype: float64"
      ]
     },
     "execution_count": 80,
     "metadata": {},
     "output_type": "execute_result"
    }
   ],
   "source": [
    "y_test"
   ]
  },
  {
   "cell_type": "code",
   "execution_count": 81,
   "id": "49876d61",
   "metadata": {},
   "outputs": [
    {
     "data": {
      "text/plain": [
       "1.0"
      ]
     },
     "execution_count": 81,
     "metadata": {},
     "output_type": "execute_result"
    }
   ],
   "source": [
    "score"
   ]
  },
  {
   "cell_type": "code",
   "execution_count": 82,
   "id": "53d705a3",
   "metadata": {},
   "outputs": [],
   "source": [
    "predictions = model.predict(X_test)"
   ]
  },
  {
   "cell_type": "code",
   "execution_count": 83,
   "id": "318b3ab7",
   "metadata": {
    "scrolled": true
   },
   "outputs": [
    {
     "data": {
      "text/plain": [
       "array([-0.49334935,  0.94781709,  0.14716906,  0.50301263,  0.91223273,\n",
       "        0.25392213,  0.98340144, -1.57867223, -0.65347896, -1.32958173,\n",
       "       -0.65347896, -0.84919292,  2.01534778, -0.84919292,  0.39625956,\n",
       "        0.00483164, -0.54672589, -0.79581638,  1.92638689, -1.15165995,\n",
       "        1.07236233, -0.65347896,  0.6097657 , -0.457765  ,  1.76625728,\n",
       "       -0.01296054, -0.88477728, -0.54672589, -1.20503648, -0.29763539,\n",
       "        0.50301263,  0.00483164,  1.0189858 ,  0.50301263, -0.15529797,\n",
       "       -0.24425886, -0.40438846,  1.10794669,  0.66314223,  2.08651649,\n",
       "       -1.04490688, -0.97373817, -0.36880411, -0.74243985,  2.08651649,\n",
       "        0.69872659,  1.07236233,  0.78768748,  0.93002491, -0.38659628,\n",
       "       -0.95594599,  1.12573887,  2.05093214,  0.6097657 , -0.22646668,\n",
       "        0.14716906, -1.29399738,  0.02262382, -0.31542757,  2.05093214,\n",
       "       -0.47555718, -0.84919292, -1.4363348 , -0.65347896, -0.26205104,\n",
       "        1.41041372, -0.76023203, -1.40075045,  0.41405174,  0.53859699,\n",
       "       -0.63568678,  0.43184392,  1.97976342, -1.32958173,  1.60612768,\n",
       "        0.46742827, -0.27984321, -0.65347896, -0.92036163,  1.1791154 ,\n",
       "        1.26807629,  0.23612995, -1.20503648, -0.99153035, -0.36880411,\n",
       "       -1.13386777,  0.11158471,  0.78768748,  1.81963382, -1.20503648,\n",
       "       -0.54672589,  1.30366065, -1.0271147 , -0.74243985,  0.48522045,\n",
       "       -1.4363348 ,  1.19690758,  0.85885619, -0.08412925,  1.60612768,\n",
       "        0.2005456 , -0.90256945, -0.92036163, -0.74243985,  2.06872432,\n",
       "        0.87664837, -0.74243985,  0.73431095,  0.09379253, -0.11971361,\n",
       "        0.05820817, -0.49334935,  1.80184164,  0.71651877, -1.32958173,\n",
       "        1.14353105, -0.457765  ,  1.67729639, -0.26205104,  0.87664837,\n",
       "        2.12210085, -0.54672589, -0.457765  , -0.92036163,  0.28950649,\n",
       "       -1.52529569, -1.24062084, -1.70321748, -0.56451807, -0.49334935,\n",
       "        1.51716679, -1.06269906,  0.59197352, -1.70321748,  0.37846738,\n",
       "       -0.77802421,  0.68093441])"
      ]
     },
     "execution_count": 83,
     "metadata": {},
     "output_type": "execute_result"
    }
   ],
   "source": [
    "predictions"
   ]
  },
  {
   "cell_type": "markdown",
   "id": "59746c65",
   "metadata": {},
   "source": [
    "## 14. Measure the performance using Metrics"
   ]
  },
  {
   "cell_type": "code",
   "execution_count": 84,
   "id": "7d14000a",
   "metadata": {},
   "outputs": [],
   "source": [
    "#14. Measure the performance using Metrics\n",
    "from sklearn.metrics import mean_squared_error,r2_score, mean_absolute_error\n",
    "y_pred = model.predict(X_test)"
   ]
  },
  {
   "cell_type": "code",
   "execution_count": 85,
   "id": "ca2842ae",
   "metadata": {},
   "outputs": [],
   "source": [
    "error=y_test-y_pred"
   ]
  },
  {
   "cell_type": "code",
   "execution_count": 86,
   "id": "cf723602",
   "metadata": {},
   "outputs": [
    {
     "data": {
      "text/plain": [
       "340    4.996004e-16\n",
       "108   -9.992007e-16\n",
       "222   -2.775558e-16\n",
       "176   -3.330669e-16\n",
       "113    0.000000e+00\n",
       "           ...     \n",
       "163    1.554312e-15\n",
       "542    0.000000e+00\n",
       "190   -9.436896e-16\n",
       "406   -4.440892e-16\n",
       "151   -9.992007e-16\n",
       "Name: price, Length: 137, dtype: float64"
      ]
     },
     "execution_count": 86,
     "metadata": {},
     "output_type": "execute_result"
    }
   ],
   "source": [
    "error"
   ]
  },
  {
   "cell_type": "code",
   "execution_count": 87,
   "id": "855d4a2d",
   "metadata": {},
   "outputs": [],
   "source": [
    "se=error*error"
   ]
  },
  {
   "cell_type": "code",
   "execution_count": 88,
   "id": "ccab0216",
   "metadata": {},
   "outputs": [
    {
     "data": {
      "text/plain": [
       "340    2.496005e-31\n",
       "108    9.984021e-31\n",
       "222    7.703720e-32\n",
       "176    1.109336e-31\n",
       "113    0.000000e+00\n",
       "           ...     \n",
       "163    2.415887e-30\n",
       "542    0.000000e+00\n",
       "190    8.905500e-31\n",
       "406    1.972152e-31\n",
       "151    9.984021e-31\n",
       "Name: price, Length: 137, dtype: float64"
      ]
     },
     "execution_count": 88,
     "metadata": {},
     "output_type": "execute_result"
    }
   ],
   "source": [
    "se"
   ]
  },
  {
   "cell_type": "code",
   "execution_count": 89,
   "id": "b945360e",
   "metadata": {},
   "outputs": [],
   "source": [
    "mse=np.mean(se)"
   ]
  },
  {
   "cell_type": "code",
   "execution_count": 90,
   "id": "9e7ea61c",
   "metadata": {},
   "outputs": [
    {
     "data": {
      "text/plain": [
       "6.192525107301601e-31"
      ]
     },
     "execution_count": 90,
     "metadata": {},
     "output_type": "execute_result"
    }
   ],
   "source": [
    "mse"
   ]
  },
  {
   "cell_type": "code",
   "execution_count": 91,
   "id": "d9b9a30e",
   "metadata": {},
   "outputs": [],
   "source": [
    "mse2=mean_squared_error(y_test,y_pred)"
   ]
  },
  {
   "cell_type": "code",
   "execution_count": 92,
   "id": "4b4200d5",
   "metadata": {},
   "outputs": [
    {
     "data": {
      "text/plain": [
       "6.192525107301601e-31"
      ]
     },
     "execution_count": 92,
     "metadata": {},
     "output_type": "execute_result"
    }
   ],
   "source": [
    "mse2"
   ]
  },
  {
   "cell_type": "code",
   "execution_count": 93,
   "id": "8aa08049",
   "metadata": {},
   "outputs": [],
   "source": [
    "mae=mean_absolute_error(y_test,y_pred)"
   ]
  },
  {
   "cell_type": "code",
   "execution_count": 94,
   "id": "bf9f28f1",
   "metadata": {},
   "outputs": [
    {
     "data": {
      "text/plain": [
       "6.002966270864705e-16"
      ]
     },
     "execution_count": 94,
     "metadata": {},
     "output_type": "execute_result"
    }
   ],
   "source": [
    "mae"
   ]
  },
  {
   "cell_type": "code",
   "execution_count": 95,
   "id": "be59ef1f",
   "metadata": {},
   "outputs": [],
   "source": [
    "rmse=np.sqrt(mse2)"
   ]
  },
  {
   "cell_type": "code",
   "execution_count": 96,
   "id": "aadf80eb",
   "metadata": {},
   "outputs": [
    {
     "data": {
      "text/plain": [
       "7.869259880891976e-16"
      ]
     },
     "execution_count": 96,
     "metadata": {},
     "output_type": "execute_result"
    }
   ],
   "source": [
    "rmse"
   ]
  },
  {
   "cell_type": "code",
   "execution_count": 97,
   "id": "9bcfe4a7",
   "metadata": {},
   "outputs": [],
   "source": [
    "r2=r2_score(y_test,y_pred)"
   ]
  },
  {
   "cell_type": "code",
   "execution_count": 98,
   "id": "b17578db",
   "metadata": {},
   "outputs": [
    {
     "data": {
      "text/plain": [
       "1.0"
      ]
     },
     "execution_count": 98,
     "metadata": {},
     "output_type": "execute_result"
    }
   ],
   "source": [
    "r2"
   ]
  },
  {
   "cell_type": "code",
   "execution_count": null,
   "id": "952ae1bb",
   "metadata": {},
   "outputs": [],
   "source": []
  }
 ],
 "metadata": {
  "kernelspec": {
   "display_name": "Python 3 (ipykernel)",
   "language": "python",
   "name": "python3"
  },
  "language_info": {
   "codemirror_mode": {
    "name": "ipython",
    "version": 3
   },
   "file_extension": ".py",
   "mimetype": "text/x-python",
   "name": "python",
   "nbconvert_exporter": "python",
   "pygments_lexer": "ipython3",
   "version": "3.9.7"
  }
 },
 "nbformat": 4,
 "nbformat_minor": 5
}
